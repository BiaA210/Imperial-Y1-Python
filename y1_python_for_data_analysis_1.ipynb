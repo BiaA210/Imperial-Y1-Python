{
 "cells": [
  {
   "cell_type": "markdown",
   "metadata": {},
   "source": [
    "# An Introduction to plotting in Python Workshop 1\n",
    "[Clyde Fare](mailto:python@imperial.ac.uk) and [João Pedro Malhado](mailto:python@imperial.ac.uk), Imperial College London\n",
    "\n",
    "\n",
    "This notebook is based on materia from Catherine Devlin, Nicolas P. Rougier, and the sci-py lectures and is licensed under a [Creative Commons Attribution 3.0 (CC-by) license](http://creativecommons.org/licenses/by/3.0/us)"
   ]
  },
  {
   "cell_type": "markdown",
   "metadata": {},
   "source": [
    "During this workshop we will briefly introduce some of the basics of Python and use of the Jupyter Notebook before moving on to manipulating data and plotting.\n",
    "\n",
    "The means by which we select and manipulate data and construct plots will seem rather strange at first but this approach is extraordinarily powerful and will allow you to analyse and visualise data in a myriad of ways not possible with more limited tools like Excel. \n",
    "\n",
    "The notebook is set out to help you come to grips with plotting, it is not assessed, however in future lab work you will be expected to analyse and plot data in this manner, so it's in your best interest to take it seriously! If at any point you don't understand the material please ask a demonstrator for help that's what they are there for.\n",
    "\n",
    "This is an interactive tutorial - as you go through it any time you see something that looks like this:\n",
    "\n",
    "    a = \"Hello\"\n",
    "   \n",
    "that's followed by an empty *code cell* (a light grey rectangle with a label like *\"In[ ]\"*), you should \n",
    "type the expression in the code cell, hit Shift+Return to *execute* it, and note the output.\n",
    "\n",
    "**No copying and pasting! You'll learn the concepts better if you type them out yourself.**\n",
    "\n",
    "Warning: periodically save your work by pressing the save icon above (We'll cover the other icons later but if you want to know what they are now hover your cursor over them)"
   ]
  },
  {
   "cell_type": "markdown",
   "metadata": {},
   "source": [
    "# Content\n",
    "\n",
    "* [Basic operations and notbook working](#preliminaries)\n",
    "* [Notebook formatting](#notebook format)\n",
    "* [%pylab](#pylab)\n",
    "* [Arrays](#arrays)\n",
    "* [Plots](#plots)\n",
    "* [Bar charts, histograms saving plots](#otherplots)\n",
    "* [Exercises](#exercises)\n",
    "* [Plot formatting reference](#reference)\n",
    "* [Resources links](#resources)"
   ]
  },
  {
   "cell_type": "markdown",
   "metadata": {},
   "source": [
    "# Preliminaries <a id=\"preliminaries\"></a>"
   ]
  },
  {
   "cell_type": "markdown",
   "metadata": {},
   "source": [
    "Maths in Jupyter notebooks with an IPython kernel looks a lot like maths you type into a calculator. A Jupyter notebook makes a great calculator if you need to crunch some numbers and have a record of the calculations you've done.\n",
    "    \n",
    "    4*5 + 5   "
   ]
  },
  {
   "cell_type": "code",
   "execution_count": 1,
   "metadata": {},
   "outputs": [
    {
     "data": {
      "text/plain": [
       "25"
      ]
     },
     "execution_count": 1,
     "metadata": {},
     "output_type": "execute_result"
    }
   ],
   "source": [
    "4*5+5"
   ]
  },
  {
   "cell_type": "markdown",
   "metadata": {},
   "source": [
    "Note that the white space between operators has no effect on the result\n",
    "    \n",
    "    4 * 5+5"
   ]
  },
  {
   "cell_type": "code",
   "execution_count": 2,
   "metadata": {},
   "outputs": [
    {
     "data": {
      "text/plain": [
       "25"
      ]
     },
     "execution_count": 2,
     "metadata": {},
     "output_type": "execute_result"
    }
   ],
   "source": [
    "4 * 5+5"
   ]
  },
  {
   "cell_type": "markdown",
   "metadata": {},
   "source": [
    "The order of operations is as usual (multiply/divide is evaluated before add/subtract) but can be controlled explicitly using round parentheses\n",
    "    \n",
    "    4 * (5+5)"
   ]
  },
  {
   "cell_type": "code",
   "execution_count": 3,
   "metadata": {},
   "outputs": [
    {
     "data": {
      "text/plain": [
       "40"
      ]
     },
     "execution_count": 3,
     "metadata": {},
     "output_type": "execute_result"
    }
   ],
   "source": [
    "4*(5+5)"
   ]
  },
  {
   "cell_type": "markdown",
   "metadata": {},
   "source": [
    "Raising a quantity to the power of another quantity is performed using \\*\\*\n",
    "\n",
    "    2.5 **1.5"
   ]
  },
  {
   "cell_type": "code",
   "execution_count": 4,
   "metadata": {},
   "outputs": [
    {
     "data": {
      "text/plain": [
       "3.952847075210474"
      ]
     },
     "execution_count": 4,
     "metadata": {},
     "output_type": "execute_result"
    }
   ],
   "source": [
    "2.5**1.5"
   ]
  },
  {
   "cell_type": "markdown",
   "metadata": {},
   "source": [
    "No one would want to write the Avogadro constant as 602214085700000000000000. For this reason we use scientific notation to represent very big or small numbers, or in chemistry simply to control the number of significant digits. In scientific notation we write a number as:\n",
    "\n",
    "$$b\\times10^{\\beta},$$\n",
    "\n",
    "where *b* is called the significant and is a number 1&le;|*b*|&lt;10, and &beta; is the order of magnitude and can be any positive or negative integer. As we know, the Avogadro constant is just writen as 6.022140857&times;10<sup>23</sup>.\n",
    "\n",
    "In Python this notation is written slightly differently by separating the significant and the order of magnitude by an 'e'\n",
    "\n",
    "    60.22e22"
   ]
  },
  {
   "cell_type": "code",
   "execution_count": 5,
   "metadata": {},
   "outputs": [
    {
     "data": {
      "text/plain": [
       "6.022e+23"
      ]
     },
     "execution_count": 5,
     "metadata": {},
     "output_type": "execute_result"
    }
   ],
   "source": [
    "60.22e22"
   ]
  },
  {
   "cell_type": "markdown",
   "metadata": {},
   "source": [
    "Note that although mathematically correct, we did not use the convention as we used a significant greater than 10, but Python made the correction for us.\n",
    "\n",
    "In order to calculate the number of particles in 3.5 mol of gas we would do\n",
    "\n",
    "    3.5 * 6.022e23"
   ]
  },
  {
   "cell_type": "code",
   "execution_count": 6,
   "metadata": {},
   "outputs": [
    {
     "data": {
      "text/plain": [
       "2.1077000000000002e+24"
      ]
     },
     "execution_count": 6,
     "metadata": {},
     "output_type": "execute_result"
    }
   ],
   "source": [
    "3.5 * 6.022e23"
   ]
  },
  {
   "cell_type": "markdown",
   "metadata": {},
   "source": [
    "## Variables"
   ]
  },
  {
   "cell_type": "markdown",
   "metadata": {},
   "source": [
    "A lot of work gets done in Python using variables, these are much like the variables in maths.\n",
    "    \n",
    "    x = 4"
   ]
  },
  {
   "cell_type": "code",
   "execution_count": 7,
   "metadata": {},
   "outputs": [],
   "source": [
    "x=4"
   ]
  },
  {
   "cell_type": "markdown",
   "metadata": {},
   "source": [
    "    x"
   ]
  },
  {
   "cell_type": "code",
   "execution_count": 8,
   "metadata": {},
   "outputs": [
    {
     "data": {
      "text/plain": [
       "4"
      ]
     },
     "execution_count": 8,
     "metadata": {},
     "output_type": "execute_result"
    }
   ],
   "source": [
    "x"
   ]
  },
  {
   "cell_type": "markdown",
   "metadata": {},
   "source": [
    "This process of giving a name to something is extremely useful. Above, we assigned the name \"`x`\" to 4, and after that we can use `x` wherever we want to use the number 4.\n",
    "\n",
    "Variables can't have spaces or other special characters, and they need to start with a letter. Here are some valid variable names:\n",
    "\n",
    "    magic_number = 1500\n",
    "    amountOfFlour = 0.75\n",
    "    my_name = \"Genghis\""
   ]
  },
  {
   "cell_type": "code",
   "execution_count": 1,
   "metadata": {},
   "outputs": [],
   "source": [
    "my_name=\"Bia\""
   ]
  },
  {
   "cell_type": "code",
   "execution_count": 3,
   "metadata": {},
   "outputs": [
    {
     "data": {
      "text/plain": [
       "'Bia'"
      ]
     },
     "execution_count": 3,
     "metadata": {},
     "output_type": "execute_result"
    }
   ],
   "source": [
    "my_name"
   ]
  },
  {
   "cell_type": "markdown",
   "metadata": {},
   "source": [
    "## Output"
   ]
  },
  {
   "cell_type": "markdown",
   "metadata": {},
   "source": [
    "Notice if you type 4 and hit Shift+return, the Python interpreter prints 4 beneath the code cell:\n",
    "\n",
    "    4"
   ]
  },
  {
   "cell_type": "code",
   "execution_count": 10,
   "metadata": {},
   "outputs": [
    {
     "data": {
      "text/plain": [
       "4"
      ]
     },
     "execution_count": 10,
     "metadata": {},
     "output_type": "execute_result"
    }
   ],
   "source": [
    "4"
   ]
  },
  {
   "cell_type": "markdown",
   "metadata": {},
   "source": [
    "But if you assign 4 to a variable, nothing is printed out when you execute the cell:\n",
    "\n",
    "    x = 4"
   ]
  },
  {
   "cell_type": "code",
   "execution_count": 11,
   "metadata": {},
   "outputs": [],
   "source": [
    "x=4"
   ]
  },
  {
   "cell_type": "markdown",
   "metadata": {},
   "source": [
    "If the final line of code involves assigning something to a variable then the contents of the line are not printed to the screen.\n",
    "\n",
    "You can reassign variables if you want:\n",
    "\n",
    "    x "
   ]
  },
  {
   "cell_type": "code",
   "execution_count": 12,
   "metadata": {},
   "outputs": [
    {
     "data": {
      "text/plain": [
       "4"
      ]
     },
     "execution_count": 12,
     "metadata": {},
     "output_type": "execute_result"
    }
   ],
   "source": [
    "x"
   ]
  },
  {
   "cell_type": "markdown",
   "metadata": {},
   "source": [
    "    x = 5"
   ]
  },
  {
   "cell_type": "code",
   "execution_count": 13,
   "metadata": {},
   "outputs": [],
   "source": [
    "x=5"
   ]
  },
  {
   "cell_type": "markdown",
   "metadata": {},
   "source": [
    "    x"
   ]
  },
  {
   "cell_type": "code",
   "execution_count": 14,
   "metadata": {},
   "outputs": [
    {
     "data": {
      "text/plain": [
       "5"
      ]
     },
     "execution_count": 14,
     "metadata": {},
     "output_type": "execute_result"
    }
   ],
   "source": [
    "x"
   ]
  },
  {
   "cell_type": "markdown",
   "metadata": {},
   "source": [
    "    y = 5"
   ]
  },
  {
   "cell_type": "code",
   "execution_count": 15,
   "metadata": {},
   "outputs": [],
   "source": [
    "y=5"
   ]
  },
  {
   "cell_type": "markdown",
   "metadata": {},
   "source": [
    "    x * y"
   ]
  },
  {
   "cell_type": "code",
   "execution_count": 16,
   "metadata": {},
   "outputs": [
    {
     "data": {
      "text/plain": [
       "25"
      ]
     },
     "execution_count": 16,
     "metadata": {},
     "output_type": "execute_result"
    }
   ],
   "source": [
    "x*y"
   ]
  },
  {
   "cell_type": "markdown",
   "metadata": {},
   "source": [
    "    x * x"
   ]
  },
  {
   "cell_type": "code",
   "execution_count": 17,
   "metadata": {},
   "outputs": [
    {
     "data": {
      "text/plain": [
       "25"
      ]
     },
     "execution_count": 17,
     "metadata": {},
     "output_type": "execute_result"
    }
   ],
   "source": [
    "x*x"
   ]
  },
  {
   "cell_type": "markdown",
   "metadata": {},
   "source": [
    "You can also assign a variable name to the output of an expression:\n",
    "\n",
    "    z = x**2"
   ]
  },
  {
   "cell_type": "code",
   "execution_count": 18,
   "metadata": {},
   "outputs": [],
   "source": [
    "z=x**2"
   ]
  },
  {
   "cell_type": "markdown",
   "metadata": {},
   "source": [
    "    z"
   ]
  },
  {
   "cell_type": "code",
   "execution_count": 19,
   "metadata": {},
   "outputs": [
    {
     "data": {
      "text/plain": [
       "25"
      ]
     },
     "execution_count": 19,
     "metadata": {},
     "output_type": "execute_result"
    }
   ],
   "source": [
    "z"
   ]
  },
  {
   "cell_type": "markdown",
   "metadata": {},
   "source": [
    "## Strings"
   ]
  },
  {
   "cell_type": "markdown",
   "metadata": {},
   "source": [
    "So far we've looked at numbers, another data type is a string, which is just what Python calls a bunch of characters (like numbers, letters, whitespace, and punctuation) put together. Strings are indicated by being surrounded by quotes:\n",
    "\n",
    "    my_text = \"Hello\""
   ]
  },
  {
   "cell_type": "code",
   "execution_count": 20,
   "metadata": {},
   "outputs": [],
   "source": [
    "my_text=\"Hello\""
   ]
  },
  {
   "cell_type": "markdown",
   "metadata": {},
   "source": [
    "    my_text"
   ]
  },
  {
   "cell_type": "code",
   "execution_count": 21,
   "metadata": {},
   "outputs": [
    {
     "data": {
      "text/plain": [
       "'Hello'"
      ]
     },
     "execution_count": 21,
     "metadata": {},
     "output_type": "execute_result"
    }
   ],
   "source": [
    "my_text"
   ]
  },
  {
   "cell_type": "markdown",
   "metadata": {},
   "source": [
    "You can do quite a lot with strings but they aren't the focus here so swiftly moving on..."
   ]
  },
  {
   "cell_type": "markdown",
   "metadata": {},
   "source": [
    "## The Jupyter Notebook <a id=\"notebook format\"></a>"
   ]
  },
  {
   "cell_type": "markdown",
   "metadata": {},
   "source": [
    "Now that you've been using the notebook a bit we can talk about some of its features. \n",
    "\n",
    "Notebooks are composed of *cells*, the two main cell types are code cells and [markdown cells](https://jupyter-notebook.readthedocs.io/en/stable/examples/Notebook/Working%20With%20Markdown%20Cells.html)\n",
    "    \n",
    "*    *Code cells* for executing python commands like the maths and variable assignment above and the plotting we will do below.\n",
    "\n",
    "*    *Markdown cells* for non executable text, links, video clips images and other non code related material. (This text is in a markdown cell - double click it to see its contents).\n",
    "\n",
    "New cells can be created by clicking the \"Insert Cell below\" button with a **+** icon from the list icons at the top of the page (<button class=\"btn btn-default\"><i class=\"fa-plus fa\"></i></button>).\n",
    "<!-- Old plus icon in Notebook v3 <button class=\"btn\"><i class=\"icon-plus-sign\"></i></button> -->\n",
    "\n",
    "This will create a new cell immediately below the cell that is currently highlighted.\n",
    "\n",
    "By default new cells are code cells but you can change them by using the drop down menu to the immediate right of the icon list.\n",
    "\n",
    "You can move cells around using the up and down arrow icons. \n",
    "\n",
    "You can delete them by cutting them with the scissors icon - note at the moment you can't undo cutting a cell, so be careful! (What you can do is use the file menu and select \"Revert to checkpoint\" this will revert you to the previous saved state.)\n",
    "\n",
    "**During these workshops you are encouraged to make new cells and try things out, if you want to know what a particular command will do make a new cell, try it out and see.**\n",
    "\n",
    "One of the nice things about markdown cells is that it can also display mathematics using a special syntax called [LaTeX](https://en.wikibooks.org/wiki/LaTeX/Introduction). This allows us to produce nicely rendered equations, e.g. the Schrödinger equation:\n",
    "\n",
    "$$i\\hbar\\frac{\\partial}{\\partial t} \\Psi(r,t) = \\left [ -\\frac{\\hbar^2}{2\\mu}\\nabla^2 + V(r,t)\\right ] \\Psi(r,t)$$\n",
    "\n",
    "To include maths in a markdown cell we need to place it in between either single \"\\$\" signs for equations in line with other text or double \"\\$\\$\" signs for equations on their own line. \n",
    "\n",
    "Generate a new cell immediately below this text, change it to a markdown cell using the drop down menu and put the following text in it before executing it:\n",
    "\n",
    "\n",
    "    Here's an equation: $$\\sin(\\frac{2\\pi}{3})=\\frac{\\sqrt{3}}{2}$$"
   ]
  },
  {
   "cell_type": "markdown",
   "metadata": {},
   "source": [
    "Here's an equation: $$\\sin(\\frac{2\\pi}{3})=\\frac{\\sqrt{3}}{2}$$"
   ]
  },
  {
   "cell_type": "markdown",
   "metadata": {},
   "source": [
    "Some more [equation examples](https://jupyter-notebook.readthedocs.io/en/stable/examples/Notebook/Typesetting%20Equations.html)."
   ]
  },
  {
   "cell_type": "markdown",
   "metadata": {},
   "source": [
    "# Post Preliminaries <a id=\"pylab\"></a>"
   ]
  },
  {
   "cell_type": "markdown",
   "metadata": {},
   "source": [
    "First step is to load the plotting and more advanced mathematics machinary:"
   ]
  },
  {
   "cell_type": "markdown",
   "metadata": {},
   "source": [
    "    %pylab inline"
   ]
  },
  {
   "cell_type": "code",
   "execution_count": 1,
   "metadata": {},
   "outputs": [
    {
     "name": "stdout",
     "output_type": "stream",
     "text": [
      "Populating the interactive namespace from numpy and matplotlib\n"
     ]
    }
   ],
   "source": [
    "%pylab inline"
   ]
  },
  {
   "cell_type": "markdown",
   "metadata": {},
   "source": [
    "<p style=\"color:red\">In your own work when using plots you'll want to include this command somewhere (usually at the top) of your notebook.</p>\n",
    "\n",
    "After loading pylab we have access to many functions and variables relevant to plotting and manipulating data. First we'll go through a few we're going to use namely **pi**, **sin**, **cos**, **array**, **linspace** and **arange**. Then we'll use them to produce some plots.\n",
    "\n",
    "**pi** is the simplest it's just gives us the numerical value of $\\pi$ (to 16 significant figures) simply by typing:\n",
    "\n",
    "    pi"
   ]
  },
  {
   "cell_type": "code",
   "execution_count": 23,
   "metadata": {},
   "outputs": [
    {
     "data": {
      "text/plain": [
       "3.141592653589793"
      ]
     },
     "execution_count": 23,
     "metadata": {},
     "output_type": "execute_result"
    }
   ],
   "source": [
    "pi"
   ]
  },
  {
   "cell_type": "markdown",
   "metadata": {},
   "source": [
    "We also can access trigonmetric functions which behave the same way as a calculator set to use radians:\n",
    "    \n",
    "    cos(pi)"
   ]
  },
  {
   "cell_type": "code",
   "execution_count": 24,
   "metadata": {},
   "outputs": [
    {
     "data": {
      "text/plain": [
       "-1.0"
      ]
     },
     "execution_count": 24,
     "metadata": {},
     "output_type": "execute_result"
    }
   ],
   "source": [
    "cos(pi)"
   ]
  },
  {
   "cell_type": "markdown",
   "metadata": {},
   "source": [
    "Try cos of pi/2, you might find the result strange but notice that the numbers are very small, thus very close to zero.\n",
    "    \n",
    "    cos(pi/2)"
   ]
  },
  {
   "cell_type": "code",
   "execution_count": 25,
   "metadata": {},
   "outputs": [
    {
     "data": {
      "text/plain": [
       "6.123233995736766e-17"
      ]
     },
     "execution_count": 25,
     "metadata": {},
     "output_type": "execute_result"
    }
   ],
   "source": [
    "cos(pi/2)"
   ]
  },
  {
   "cell_type": "markdown",
   "metadata": {},
   "source": [
    "## Arrays <a id=\"arrays\"></a>"
   ]
  },
  {
   "cell_type": "markdown",
   "metadata": {},
   "source": [
    "Arrays of numbers are very useful creatures, in this course all your data will take the form of arrays. It is important to get a good grasp of how they work.\n",
    "\n",
    "We can construct an array manually by typing the **array** command like so. \n",
    "\n",
    "    array([1,2,3,4])"
   ]
  },
  {
   "cell_type": "code",
   "execution_count": 26,
   "metadata": {},
   "outputs": [
    {
     "data": {
      "text/plain": [
       "array([1, 2, 3, 4])"
      ]
     },
     "execution_count": 26,
     "metadata": {},
     "output_type": "execute_result"
    }
   ],
   "source": [
    "array([1,2,3,4])"
   ]
  },
  {
   "cell_type": "markdown",
   "metadata": {},
   "source": [
    "And we can assign it to a variable as before via:\n",
    "    \n",
    "    some_numbers = array([1,2,3,4])"
   ]
  },
  {
   "cell_type": "code",
   "execution_count": 27,
   "metadata": {},
   "outputs": [],
   "source": [
    "some_numbers=array([1,2,3,4])"
   ]
  },
  {
   "cell_type": "markdown",
   "metadata": {},
   "source": [
    "We can perform the usual mathematical operations on arrays:"
   ]
  },
  {
   "cell_type": "markdown",
   "metadata": {},
   "source": [
    "    array([1, 2, 3, 4]) + array([1, 2, 3, 4])"
   ]
  },
  {
   "cell_type": "code",
   "execution_count": 28,
   "metadata": {},
   "outputs": [
    {
     "data": {
      "text/plain": [
       "array([2, 4, 6, 8])"
      ]
     },
     "execution_count": 28,
     "metadata": {},
     "output_type": "execute_result"
    }
   ],
   "source": [
    "array([1,2,3,4])+array([1,2,3,4])"
   ]
  },
  {
   "cell_type": "code",
   "execution_count": 29,
   "metadata": {},
   "outputs": [
    {
     "data": {
      "text/plain": [
       "array([2, 4, 6, 8])"
      ]
     },
     "execution_count": 29,
     "metadata": {},
     "output_type": "execute_result"
    }
   ],
   "source": [
    "some_numbers + some_numbers"
   ]
  },
  {
   "cell_type": "markdown",
   "metadata": {},
   "source": [
    "    array([1, 2, 3, 4]) - array([1, 2, 3, 4])"
   ]
  },
  {
   "cell_type": "code",
   "execution_count": 30,
   "metadata": {},
   "outputs": [
    {
     "data": {
      "text/plain": [
       "array([0, 0, 0, 0])"
      ]
     },
     "execution_count": 30,
     "metadata": {},
     "output_type": "execute_result"
    }
   ],
   "source": [
    "array([1,2,3,4])-array([1,2,3,4])"
   ]
  },
  {
   "cell_type": "markdown",
   "metadata": {},
   "source": [
    "    array([1, 2, 3, 4]) * array([1, 2, 3, 4])"
   ]
  },
  {
   "cell_type": "code",
   "execution_count": 31,
   "metadata": {},
   "outputs": [
    {
     "data": {
      "text/plain": [
       "array([ 1,  4,  9, 16])"
      ]
     },
     "execution_count": 31,
     "metadata": {},
     "output_type": "execute_result"
    }
   ],
   "source": [
    "array([1,2,3,4])*array([1,2,3,4])"
   ]
  },
  {
   "cell_type": "markdown",
   "metadata": {},
   "source": [
    "    array([1, 2, 3, 4]) / array([1, 2, 3, 4])"
   ]
  },
  {
   "cell_type": "code",
   "execution_count": 32,
   "metadata": {},
   "outputs": [
    {
     "data": {
      "text/plain": [
       "array([1., 1., 1., 1.])"
      ]
     },
     "execution_count": 32,
     "metadata": {},
     "output_type": "execute_result"
    }
   ],
   "source": [
    "array([1,2,3,4])/array([1,2,3,4])"
   ]
  },
  {
   "cell_type": "markdown",
   "metadata": {},
   "source": [
    "We can also perform the same operations between arrays and single numbers:"
   ]
  },
  {
   "cell_type": "markdown",
   "metadata": {},
   "source": [
    "    array([1, 2, 3, 4]) + 1"
   ]
  },
  {
   "cell_type": "code",
   "execution_count": 33,
   "metadata": {},
   "outputs": [
    {
     "data": {
      "text/plain": [
       "array([2, 3, 4, 5])"
      ]
     },
     "execution_count": 33,
     "metadata": {},
     "output_type": "execute_result"
    }
   ],
   "source": [
    "array([1,2,3,4])+1"
   ]
  },
  {
   "cell_type": "markdown",
   "metadata": {},
   "source": [
    "    array([1, 2, 3, 4]) - 1"
   ]
  },
  {
   "cell_type": "code",
   "execution_count": 34,
   "metadata": {},
   "outputs": [
    {
     "data": {
      "text/plain": [
       "array([0, 1, 2, 3])"
      ]
     },
     "execution_count": 34,
     "metadata": {},
     "output_type": "execute_result"
    }
   ],
   "source": [
    "array([1,2,3,4])-1"
   ]
  },
  {
   "cell_type": "markdown",
   "metadata": {},
   "source": [
    "    array([1, 2, 3, 4]) * 2"
   ]
  },
  {
   "cell_type": "code",
   "execution_count": 35,
   "metadata": {},
   "outputs": [
    {
     "data": {
      "text/plain": [
       "array([2, 4, 6, 8])"
      ]
     },
     "execution_count": 35,
     "metadata": {},
     "output_type": "execute_result"
    }
   ],
   "source": [
    "array([1,2,3,4])*2"
   ]
  },
  {
   "cell_type": "markdown",
   "metadata": {},
   "source": [
    "    array([1, 2, 3, 4]) / 2"
   ]
  },
  {
   "cell_type": "code",
   "execution_count": 36,
   "metadata": {},
   "outputs": [
    {
     "data": {
      "text/plain": [
       "array([0.5, 1. , 1.5, 2. ])"
      ]
     },
     "execution_count": 36,
     "metadata": {},
     "output_type": "execute_result"
    }
   ],
   "source": [
    "array([1,2,3,4])/2"
   ]
  },
  {
   "cell_type": "markdown",
   "metadata": {},
   "source": [
    "    array([1, 2, 3, 4]) ** 3"
   ]
  },
  {
   "cell_type": "code",
   "execution_count": 37,
   "metadata": {},
   "outputs": [
    {
     "data": {
      "text/plain": [
       "array([ 1,  8, 27, 64], dtype=int32)"
      ]
     },
     "execution_count": 37,
     "metadata": {},
     "output_type": "execute_result"
    }
   ],
   "source": [
    "array([1,2,3,4])**3"
   ]
  },
  {
   "cell_type": "markdown",
   "metadata": {},
   "source": [
    "Further just as we can use our cosine and sine functions on single numbers so too we can use them (and other functions that manipulate single numbers) on arrays too\n",
    "\n",
    "    cos(array([pi, 0, -pi]))"
   ]
  },
  {
   "cell_type": "code",
   "execution_count": 38,
   "metadata": {},
   "outputs": [
    {
     "data": {
      "text/plain": [
       "array([-1.,  1., -1.])"
      ]
     },
     "execution_count": 38,
     "metadata": {},
     "output_type": "execute_result"
    }
   ],
   "source": [
    "cos(array([pi,0,-pi]))"
   ]
  },
  {
   "cell_type": "markdown",
   "metadata": {},
   "source": [
    "Lets define a variable *some_numbers* that we can use to illustrate indexing:"
   ]
  },
  {
   "cell_type": "markdown",
   "metadata": {},
   "source": [
    "    some_numbers = array([2, 3, 4, 5, 6])"
   ]
  },
  {
   "cell_type": "code",
   "execution_count": 39,
   "metadata": {},
   "outputs": [],
   "source": [
    "some_numbers=array([2,3,4,5,6])"
   ]
  },
  {
   "cell_type": "markdown",
   "metadata": {},
   "source": [
    "You can access an individual member of an array using the **index** of that item:\n",
    "    \n",
    "    some_numbers[0]"
   ]
  },
  {
   "cell_type": "code",
   "execution_count": 40,
   "metadata": {},
   "outputs": [
    {
     "data": {
      "text/plain": [
       "2"
      ]
     },
     "execution_count": 40,
     "metadata": {},
     "output_type": "execute_result"
    }
   ],
   "source": [
    "some_numbers[0]"
   ]
  },
  {
   "cell_type": "markdown",
   "metadata": {},
   "source": [
    "Note that the index starts at zero and runs to the number of elements minus 1. So the last element of some_numbers is\n",
    "\n",
    "    some_numbers[4]"
   ]
  },
  {
   "cell_type": "code",
   "execution_count": 41,
   "metadata": {},
   "outputs": [
    {
     "data": {
      "text/plain": [
       "6"
      ]
     },
     "execution_count": 41,
     "metadata": {},
     "output_type": "execute_result"
    }
   ],
   "source": [
    "some_numbers[4]"
   ]
  },
  {
   "cell_type": "markdown",
   "metadata": {},
   "source": [
    "If you try and provide an index that goes beyond the last element of the array Python will throw an IndexError.\n",
    "    \n",
    "    some_numbers[6]"
   ]
  },
  {
   "cell_type": "code",
   "execution_count": 42,
   "metadata": {},
   "outputs": [
    {
     "ename": "IndexError",
     "evalue": "index 6 is out of bounds for axis 0 with size 5",
     "output_type": "error",
     "traceback": [
      "\u001b[1;31m---------------------------------------------------------------------------\u001b[0m",
      "\u001b[1;31mIndexError\u001b[0m                                Traceback (most recent call last)",
      "\u001b[1;32m<ipython-input-42-ce8406cf2970>\u001b[0m in \u001b[0;36m<module>\u001b[1;34m()\u001b[0m\n\u001b[1;32m----> 1\u001b[1;33m \u001b[0msome_numbers\u001b[0m\u001b[1;33m[\u001b[0m\u001b[1;36m6\u001b[0m\u001b[1;33m]\u001b[0m\u001b[1;33m\u001b[0m\u001b[0m\n\u001b[0m",
      "\u001b[1;31mIndexError\u001b[0m: index 6 is out of bounds for axis 0 with size 5"
     ]
    }
   ],
   "source": [
    "some_numbers[6]"
   ]
  },
  {
   "cell_type": "markdown",
   "metadata": {},
   "source": [
    "*Variations of that scary looking message is what happens whenever we do something that the python interpreter doesn't like. I.e. it means we've made a mistake somewhere. Usually we want to look at the last few lines of the error message as it often contains clues as to where our mistake has occured*"
   ]
  },
  {
   "cell_type": "markdown",
   "metadata": {},
   "source": [
    "We can access a subsection of an array by specifing two indices separated by a colon. The subsection starts with the element defined by the first index and include all elements upto **but not including** the element defined by the second index\n",
    "\n",
    "    some_numbers[1:5]"
   ]
  },
  {
   "cell_type": "code",
   "execution_count": 43,
   "metadata": {},
   "outputs": [
    {
     "data": {
      "text/plain": [
       "array([3, 4, 5, 6])"
      ]
     },
     "execution_count": 43,
     "metadata": {},
     "output_type": "execute_result"
    }
   ],
   "source": [
    "some_numbers[1:5]"
   ]
  },
  {
   "cell_type": "markdown",
   "metadata": {},
   "source": [
    "*It is important you grasp this syntax, we will be building on it throughout these workshops. In the cell below try creating different subsections of some_numbers, predicting the output you will receive before you execute the cell until you feel comfortable you understand what's going on.*"
   ]
  },
  {
   "cell_type": "code",
   "execution_count": 44,
   "metadata": {},
   "outputs": [
    {
     "data": {
      "text/plain": [
       "array([2, 3, 4])"
      ]
     },
     "execution_count": 44,
     "metadata": {},
     "output_type": "execute_result"
    }
   ],
   "source": [
    "some_numbers[0:3]"
   ]
  },
  {
   "cell_type": "code",
   "execution_count": 45,
   "metadata": {},
   "outputs": [
    {
     "data": {
      "text/plain": [
       "array([4, 5])"
      ]
     },
     "execution_count": 45,
     "metadata": {},
     "output_type": "execute_result"
    }
   ],
   "source": [
    "some_numbers[2:4]"
   ]
  },
  {
   "cell_type": "code",
   "execution_count": 46,
   "metadata": {},
   "outputs": [
    {
     "data": {
      "text/plain": [
       "array([6])"
      ]
     },
     "execution_count": 46,
     "metadata": {},
     "output_type": "execute_result"
    }
   ],
   "source": [
    "some_numbers[4:5]"
   ]
  },
  {
   "cell_type": "markdown",
   "metadata": {},
   "source": [
    "By adding a third index after another colon, we can create discontinuous subsections, here we specify a step size of two hence omit every other element.\n",
    " \n",
    "    some_numbers[1:5:2]"
   ]
  },
  {
   "cell_type": "code",
   "execution_count": 47,
   "metadata": {},
   "outputs": [
    {
     "data": {
      "text/plain": [
       "array([3, 5])"
      ]
     },
     "execution_count": 47,
     "metadata": {},
     "output_type": "execute_result"
    }
   ],
   "source": [
    "some_numbers[1:5:2]"
   ]
  },
  {
   "cell_type": "markdown",
   "metadata": {},
   "source": [
    "*Again it is very improtant you grasp how to do this, please use the cell below to try out different subsections and step  sizes until you feel comfortable using this syntax. If you don't understand please ask a demonstrator*"
   ]
  },
  {
   "cell_type": "code",
   "execution_count": 48,
   "metadata": {},
   "outputs": [
    {
     "data": {
      "text/plain": [
       "array([2, 4, 6])"
      ]
     },
     "execution_count": 48,
     "metadata": {},
     "output_type": "execute_result"
    }
   ],
   "source": [
    "some_numbers[0:5:2]"
   ]
  },
  {
   "cell_type": "code",
   "execution_count": 49,
   "metadata": {},
   "outputs": [
    {
     "data": {
      "text/plain": [
       "array([2, 5])"
      ]
     },
     "execution_count": 49,
     "metadata": {},
     "output_type": "execute_result"
    }
   ],
   "source": [
    "some_numbers[0:5:3]"
   ]
  },
  {
   "cell_type": "markdown",
   "metadata": {},
   "source": [
    "If we omit the first index it is equivalent to starting at the first element of the array. Like wise ommiting the last element is equivalent to ending at the last element of the array:\n",
    "    \n",
    "    some_numbers[:]"
   ]
  },
  {
   "cell_type": "code",
   "execution_count": 50,
   "metadata": {},
   "outputs": [
    {
     "data": {
      "text/plain": [
       "array([2, 3, 4, 5, 6])"
      ]
     },
     "execution_count": 50,
     "metadata": {},
     "output_type": "execute_result"
    }
   ],
   "source": [
    "some_numbers[:]"
   ]
  },
  {
   "cell_type": "code",
   "execution_count": 51,
   "metadata": {},
   "outputs": [
    {
     "data": {
      "text/plain": [
       "array([2, 3, 4, 5])"
      ]
     },
     "execution_count": 51,
     "metadata": {},
     "output_type": "execute_result"
    }
   ],
   "source": [
    "some_numbers[:4]"
   ]
  },
  {
   "cell_type": "markdown",
   "metadata": {},
   "source": [
    "### 2D Arrays"
   ]
  },
  {
   "cell_type": "markdown",
   "metadata": {},
   "source": [
    "Up to this point we have considered simple 1D arrays, where each entry in the array is a number (or variable). More complex and more useful data structures can be constructed by considering that each element of an *array* is another *array*:\n",
    "\n",
    "    array([array([1, 2, 3]),array([4, 5, 6]),array([7, 8, 9])])"
   ]
  },
  {
   "cell_type": "code",
   "execution_count": 52,
   "metadata": {},
   "outputs": [
    {
     "data": {
      "text/plain": [
       "array([[1, 2, 3],\n",
       "       [4, 5, 6],\n",
       "       [7, 8, 9]])"
      ]
     },
     "execution_count": 52,
     "metadata": {},
     "output_type": "execute_result"
    }
   ],
   "source": [
    "array([array([1,2,3]),array([4,5,6]),array([7,8,9])])"
   ]
  },
  {
   "cell_type": "markdown",
   "metadata": {},
   "source": [
    "In this way we can construct 2D (or higher dimension) arrays, which can be thought as 2D tables or [matrices](https://en.wikiversity.org/wiki/Fundamental_Mathematics/Matrix). Each array inside the original array is one row in our 2D table.\n",
    "\n",
    "From the output of the previous cell you see that all the array commands inside the original array have been suppressed, but the square brackets that provide data structure are included. This is an equivalent, more convenient way of defining 2D arrays, but it can still be useful to thing of them as arrays inside arrays.\n",
    "\n",
    "Let us now define a bigger 2D array:\n",
    "\n",
    "    a = array([[ 0,  1,  2,  3,  4,  5],\n",
    "               [10, 11, 12, 13, 14, 15],\n",
    "               [20, 21, 22, 23, 24, 25],\n",
    "               [30, 31, 32, 33, 34, 35],\n",
    "               [40, 41, 42, 43, 44, 45],\n",
    "               [50, 51, 52, 53, 54, 55]])\n"
   ]
  },
  {
   "cell_type": "code",
   "execution_count": 53,
   "metadata": {},
   "outputs": [],
   "source": [
    "a=array([[0,1,2,3,4,5],[10,11,12,13,14,15],[20,21,22,23,24,25],[30,31,32,33,34,35],[40,41,42,43,44,45],[50,51,52,53,54,55]])"
   ]
  },
  {
   "cell_type": "markdown",
   "metadata": {},
   "source": [
    "    a"
   ]
  },
  {
   "cell_type": "code",
   "execution_count": 54,
   "metadata": {},
   "outputs": [
    {
     "data": {
      "text/plain": [
       "array([[ 0,  1,  2,  3,  4,  5],\n",
       "       [10, 11, 12, 13, 14, 15],\n",
       "       [20, 21, 22, 23, 24, 25],\n",
       "       [30, 31, 32, 33, 34, 35],\n",
       "       [40, 41, 42, 43, 44, 45],\n",
       "       [50, 51, 52, 53, 54, 55]])"
      ]
     },
     "execution_count": 54,
     "metadata": {},
     "output_type": "execute_result"
    }
   ],
   "source": [
    "a"
   ]
  },
  {
   "cell_type": "markdown",
   "metadata": {},
   "source": [
    "In order to access elements on a 2D array we can use two indices (here generically called *i1* and *i2*),\n",
    "\n",
    "    a[i1][i2]\n",
    "    \n",
    "The two indices can be seen to operate sequentially (a[i1])[i2]. From array *a* we'll be selecting the row at position *i1*, and then we'll be selecting element in position *i2* from that row.\n",
    "\n",
    "    a[0][4]"
   ]
  },
  {
   "cell_type": "code",
   "execution_count": 55,
   "metadata": {},
   "outputs": [
    {
     "data": {
      "text/plain": [
       "4"
      ]
     },
     "execution_count": 55,
     "metadata": {},
     "output_type": "execute_result"
    }
   ],
   "source": [
    "a[0][4]"
   ]
  },
  {
   "cell_type": "code",
   "execution_count": 56,
   "metadata": {},
   "outputs": [
    {
     "data": {
      "text/plain": [
       "23"
      ]
     },
     "execution_count": 56,
     "metadata": {},
     "output_type": "execute_result"
    }
   ],
   "source": [
    "a[2][3]"
   ]
  },
  {
   "cell_type": "markdown",
   "metadata": {},
   "source": [
    "Instead of using the squared brackets twice, the usual way we access elements is to use two indices separated by a comma:\n",
    "\n",
    "    a[0,4]"
   ]
  },
  {
   "cell_type": "code",
   "execution_count": 57,
   "metadata": {},
   "outputs": [
    {
     "data": {
      "text/plain": [
       "4"
      ]
     },
     "execution_count": 57,
     "metadata": {},
     "output_type": "execute_result"
    }
   ],
   "source": [
    "a[0,4]"
   ]
  },
  {
   "cell_type": "code",
   "execution_count": 58,
   "metadata": {},
   "outputs": [
    {
     "data": {
      "text/plain": [
       "23"
      ]
     },
     "execution_count": 58,
     "metadata": {},
     "output_type": "execute_result"
    }
   ],
   "source": [
    "a[2,3]"
   ]
  },
  {
   "cell_type": "markdown",
   "metadata": {},
   "source": [
    "Index ranges in 2D arrays can be expressed in an analougous way to the 1D case, remembering the first index corresponds to rows, and the second to columns. The general syntax is:\n",
    "\n",
    "  **<span style='color:green'>array_name</span> [ <span style='color:blue'>row_indices</span> <span style='color:red;font-     weight:bold'>,</span> <span style='color:blue'>column_indices</span> ]**\n",
    "  \n",
    " The image below shows how different elements of a 2D array can be accessed using the indexing discussed above."
   ]
  },
  {
   "cell_type": "markdown",
   "metadata": {},
   "source": [
    "![If you don't seen an image you may not be running the notebook on the same folder as the image files.](numpy_indexing_v2.png \"Illustration of array row/column indexing\")"
   ]
  },
  {
   "cell_type": "markdown",
   "metadata": {},
   "source": [
    "    a[0,3:5]"
   ]
  },
  {
   "cell_type": "code",
   "execution_count": 59,
   "metadata": {},
   "outputs": [
    {
     "data": {
      "text/plain": [
       "array([3, 4])"
      ]
     },
     "execution_count": 59,
     "metadata": {},
     "output_type": "execute_result"
    }
   ],
   "source": [
    "a[0,3:5]"
   ]
  },
  {
   "cell_type": "markdown",
   "metadata": {},
   "source": [
    "    a[:,2]"
   ]
  },
  {
   "cell_type": "code",
   "execution_count": 60,
   "metadata": {},
   "outputs": [
    {
     "data": {
      "text/plain": [
       "array([ 2, 12, 22, 32, 42, 52])"
      ]
     },
     "execution_count": 60,
     "metadata": {},
     "output_type": "execute_result"
    }
   ],
   "source": [
    "a[:,2]"
   ]
  },
  {
   "cell_type": "markdown",
   "metadata": {},
   "source": [
    "Do you understand why the last command gives you the 3rd column of the array? Take half a minute to think about it and ask if it is not clear.\n",
    "\n",
    "In the cell below insert the code necessary to extract from array 'a' the elements defined by the light blue box in the bottom right corner of the above figure."
   ]
  },
  {
   "cell_type": "code",
   "execution_count": 61,
   "metadata": {},
   "outputs": [
    {
     "data": {
      "text/plain": [
       "array([[44, 45],\n",
       "       [54, 55]])"
      ]
     },
     "execution_count": 61,
     "metadata": {},
     "output_type": "execute_result"
    }
   ],
   "source": [
    "a[4:6,4:6]"
   ]
  },
  {
   "cell_type": "markdown",
   "metadata": {},
   "source": [
    "Ok time to generate some data. We'll use another pylab function called **linspace**. To get a feel for what linspace is doing execute the following line and take a look at the output:\n",
    "     \n",
    "    linspace(-pi, pi, 10)"
   ]
  },
  {
   "cell_type": "code",
   "execution_count": 62,
   "metadata": {},
   "outputs": [
    {
     "data": {
      "text/plain": [
       "array([-3.14159265, -2.44346095, -1.74532925, -1.04719755, -0.34906585,\n",
       "        0.34906585,  1.04719755,  1.74532925,  2.44346095,  3.14159265])"
      ]
     },
     "execution_count": 62,
     "metadata": {},
     "output_type": "execute_result"
    }
   ],
   "source": [
    "linspace(-pi,pi,10)"
   ]
  },
  {
   "cell_type": "markdown",
   "metadata": {},
   "source": [
    "The command generates an **array** of 10  equally space numbers starting at -pi and ending pi, we could have typed it out by hand but who wants to do that?"
   ]
  },
  {
   "cell_type": "markdown",
   "metadata": {},
   "source": [
    "Another command similar to linspace is **arange**.\n",
    "\n",
    "    arange(1,10,2)"
   ]
  },
  {
   "cell_type": "markdown",
   "metadata": {},
   "source": [
    "This generates an **array** starting with 1, including all steps upto but not including 10 where the step size is set to two."
   ]
  },
  {
   "cell_type": "code",
   "execution_count": 63,
   "metadata": {},
   "outputs": [
    {
     "data": {
      "text/plain": [
       "array([1, 3, 5, 7, 9])"
      ]
     },
     "execution_count": 63,
     "metadata": {},
     "output_type": "execute_result"
    }
   ],
   "source": [
    "arange(1,10,2)"
   ]
  },
  {
   "cell_type": "code",
   "execution_count": 64,
   "metadata": {},
   "outputs": [
    {
     "data": {
      "text/plain": [
       "array([4, 6, 8])"
      ]
     },
     "execution_count": 64,
     "metadata": {},
     "output_type": "execute_result"
    }
   ],
   "source": [
    "arange(4,10,2)"
   ]
  },
  {
   "cell_type": "code",
   "execution_count": 65,
   "metadata": {},
   "outputs": [
    {
     "data": {
      "text/plain": [
       "array([ 3,  6,  9, 12])"
      ]
     },
     "execution_count": 65,
     "metadata": {},
     "output_type": "execute_result"
    }
   ],
   "source": [
    "arange(3,15,3)"
   ]
  },
  {
   "cell_type": "markdown",
   "metadata": {},
   "source": [
    "## Plotting <a id=\"plots\"></a>"
   ]
  },
  {
   "cell_type": "markdown",
   "metadata": {},
   "source": [
    "With the basic components out of the way we can introduce the plotting functions. **plot** is the most important function which we'll be using throughout. *In Python we plot points. We cannot plot mathematical functions directly. When we want to plot mathematical functions we will do so by first creating an appropriate set of points.*"
   ]
  },
  {
   "cell_type": "markdown",
   "metadata": {},
   "source": [
    "First we'll plot points along a $y=x^2$ curve. We generate the x values using *arange* and the y values by squaring the x values:\n",
    "\n",
    "    x = arange(0,20)\n",
    "    y = x ** 2"
   ]
  },
  {
   "cell_type": "code",
   "execution_count": 66,
   "metadata": {},
   "outputs": [],
   "source": [
    "x=arange(0,20)\n",
    "y=x**2"
   ]
  },
  {
   "cell_type": "markdown",
   "metadata": {},
   "source": [
    "Now we can just use *plot* to create a plot of point's we've created, and **show** to display the plot.\n",
    "\n",
    "    plot(x, y)\n",
    "    show()"
   ]
  },
  {
   "cell_type": "code",
   "execution_count": 67,
   "metadata": {},
   "outputs": [
    {
     "data": {
      "image/png": "[encoded data removed]",
      "text/plain": [
       "<Figure size 432x288 with 1 Axes>"
      ]
     },
     "metadata": {
      "needs_background": "light"
     },
     "output_type": "display_data"
    }
   ],
   "source": [
    "plot(x,y)\n",
    "show()"
   ]
  },
  {
   "cell_type": "markdown",
   "metadata": {},
   "source": [
    "NB It's important to understand that this is exactly equivalent to putting the arrays directly into the scatter function. I.E."
   ]
  },
  {
   "cell_type": "code",
   "execution_count": 68,
   "metadata": {},
   "outputs": [
    {
     "data": {
      "image/png": "[encoded data removed]",
      "text/plain": [
       "<Figure size 432x288 with 1 Axes>"
      ]
     },
     "metadata": {
      "needs_background": "light"
     },
     "output_type": "display_data"
    }
   ],
   "source": [
    "plot(array([0,1,2,3,4,5,6,7,8,9,10,11,12,13,14,15,16,17,18,19]), \n",
    "     array([0,1,4,9,16,25,36,49,64,81,100,121,144,169,196,225,256,289,324,361]))\n",
    "show()"
   ]
  },
  {
   "cell_type": "markdown",
   "metadata": {},
   "source": [
    "If you don't understand why these two plots are identical now is a good time to grab a demonstrator and ask!"
   ]
  },
  {
   "cell_type": "markdown",
   "metadata": {},
   "source": [
    "By default **plot** draws a line between the points without highlighting them. We can add markers at the data points position with the option *marker*\n",
    "\n",
    "    plot(x, y,marker='o')\n",
    "    show()"
   ]
  },
  {
   "cell_type": "code",
   "execution_count": 69,
   "metadata": {},
   "outputs": [
    {
     "data": {
      "image/png": "[encoded data removed]",
      "text/plain": [
       "<Figure size 432x288 with 1 Axes>"
      ]
     },
     "metadata": {
      "needs_background": "light"
     },
     "output_type": "display_data"
    }
   ],
   "source": [
    "plot(x,y,marker='o')\n",
    "show()"
   ]
  },
  {
   "cell_type": "markdown",
   "metadata": {},
   "source": [
    "If we want to add labels axes and a title we can do so using *xlabel*, *ylabel* and *title*\n",
    "\n",
    "    xlabel('x')\n",
    "    ylabel('y')\n",
    "    title('Connecting dots')\n",
    "    plot(x,y,marker='o')\n",
    "    show()"
   ]
  },
  {
   "cell_type": "code",
   "execution_count": 70,
   "metadata": {},
   "outputs": [
    {
     "data": {
      "image/png": "[encoded data removed]",
      "text/plain": [
       "<Figure size 432x288 with 1 Axes>"
      ]
     },
     "metadata": {
      "needs_background": "light"
     },
     "output_type": "display_data"
    }
   ],
   "source": [
    "xlabel('x axis')\n",
    "ylabel('y axis')\n",
    "title('Connecting dots')\n",
    "plot(x,y,marker='o')\n",
    "show()"
   ]
  },
  {
   "cell_type": "markdown",
   "metadata": {},
   "source": [
    "In most of the cases when plotting experimental data, one is interested in the experimental measurements themselves and not an \"artificial\" line connecting them, as this line is often a deceiving guide to the eye. In order to get away with the line the option *linestyle='None'* can be used.\n",
    "\n",
    "    xlabel('x')\n",
    "    ylabel('y')\n",
    "    title('Neet simple plot')\n",
    "    plot(x,y,marker='o',linestyle='None')\n",
    "    show()"
   ]
  },
  {
   "cell_type": "code",
   "execution_count": 71,
   "metadata": {},
   "outputs": [
    {
     "data": {
      "image/png": "[encoded data removed]",
      "text/plain": [
       "<Figure size 432x288 with 1 Axes>"
      ]
     },
     "metadata": {
      "needs_background": "light"
     },
     "output_type": "display_data"
    }
   ],
   "source": [
    "xlabel('x axis')\n",
    "ylabel('y axis')\n",
    "title('Diamond plot')\n",
    "plot(x,y,marker='d',linestyle='none')\n",
    "show()"
   ]
  },
  {
   "cell_type": "markdown",
   "metadata": {},
   "source": [
    "When further dealing with experimental data, there is often a known error associated with each data point. In plots this is often displayed in terms of an errorbar. There is an *errorbar* function which works in the same way as *plot* but lets us include these bars with our plots.\n",
    "\n",
    "First we'll define some fake errors for the purposes of illustrating the errorbars. (There is one value per point)"
   ]
  },
  {
   "cell_type": "code",
   "execution_count": 72,
   "metadata": {},
   "outputs": [],
   "source": [
    "y_err = array([ 29.6,  27.6,  28. ,  35.6,  26.7,   3.4,  31.7,   7.2,  29.8,\n",
    "                13.3,  11.3,  21.7,   1.5,  40.2,   8.7,  37.2,  30.9,   1.2,\n",
    "                20.2,   6.4])"
   ]
  },
  {
   "cell_type": "markdown",
   "metadata": {},
   "source": [
    "Now we will include them in our plot:\n",
    "    \n",
    "    xlabel('x')\n",
    "    ylabel('y')\n",
    "    title('Experimental data')\n",
    "    errorbar(x,y, y_err,linestyle='None',marker='o')\n",
    "    show()"
   ]
  },
  {
   "cell_type": "code",
   "execution_count": 73,
   "metadata": {},
   "outputs": [
    {
     "data": {
      "image/png": "[encoded data removed]",
      "text/plain": [
       "<Figure size 432x288 with 1 Axes>"
      ]
     },
     "metadata": {
      "needs_background": "light"
     },
     "output_type": "display_data"
    }
   ],
   "source": [
    "xlabel('x axis')\n",
    "ylabel('y axis')\n",
    "title('Experimental data')\n",
    "errorbar(x,y,y_err,linestyle='none',marker='o')\n",
    "show()"
   ]
  },
  {
   "cell_type": "markdown",
   "metadata": {},
   "source": [
    "Do you understand what the commands are doing? If not grab a demonstrator and pester them!"
   ]
  },
  {
   "cell_type": "markdown",
   "metadata": {},
   "source": [
    "### Using defaults"
   ]
  },
  {
   "cell_type": "markdown",
   "metadata": {},
   "source": [
    "In this section, we will draw cosine and sine functions on the same plot. Starting from the default settings, we'll enrich the figure step by step to make it nicer.\n",
    "\n",
    "Matplotlib is the module used in the notebook to plot. It comes with a set of default settings that allow customising all kinds of properties. You can control the defaults of almost every property in matplotlib: figure size, line width, markers, color and style, axes, axis and grid properties, text and font properties and so on. While matplotlib defaults are rather good in most cases, you may want to modify some properties for specific cases.\n",
    "\n",
    "    X = linspace(-pi, pi, 128)\n",
    "    C = cos(X)\n",
    "    S = sin(X)\n",
    "\n",
    "    plot(X,C)\n",
    "    plot(X,S)\n",
    "\n",
    "    show()"
   ]
  },
  {
   "cell_type": "code",
   "execution_count": 74,
   "metadata": {},
   "outputs": [
    {
     "data": {
      "image/png": "[encoded data removed]",
      "text/plain": [
       "<Figure size 432x288 with 1 Axes>"
      ]
     },
     "metadata": {
      "needs_background": "light"
     },
     "output_type": "display_data"
    }
   ],
   "source": [
    "X=linspace(-pi,pi,128)\n",
    "C=cos(X)\n",
    "S=sin(X)\n",
    "plot(X,C)\n",
    "plot(X,S)\n",
    "show()"
   ]
  },
  {
   "cell_type": "markdown",
   "metadata": {},
   "source": [
    "The first three lines should be understandable from the prelimary material we covered above. \n",
    "\n",
    "X is now an array with 128 values ranging from $-\\pi$ to $+\\pi$ (included). C is the cosine of X (128 values) and S is the sine of X(128 values).\n",
    "\n",
    "    X"
   ]
  },
  {
   "cell_type": "code",
   "execution_count": 75,
   "metadata": {},
   "outputs": [
    {
     "data": {
      "text/plain": [
       "array([-3.14159265, -3.09211875, -3.04264485, -2.99317095, -2.94369705,\n",
       "       -2.89422315, -2.84474925, -2.79527535, -2.74580145, -2.69632755,\n",
       "       -2.64685365, -2.59737975, -2.54790585, -2.49843195, -2.44895805,\n",
       "       -2.39948415, -2.35001025, -2.30053635, -2.25106245, -2.20158855,\n",
       "       -2.15211465, -2.10264075, -2.05316685, -2.00369295, -1.95421905,\n",
       "       -1.90474515, -1.85527125, -1.80579735, -1.75632345, -1.70684955,\n",
       "       -1.65737565, -1.60790175, -1.55842785, -1.50895395, -1.45948005,\n",
       "       -1.41000615, -1.36053225, -1.31105835, -1.26158445, -1.21211055,\n",
       "       -1.16263665, -1.11316275, -1.06368885, -1.01421495, -0.96474105,\n",
       "       -0.91526715, -0.86579325, -0.81631935, -0.76684545, -0.71737155,\n",
       "       -0.66789765, -0.61842375, -0.56894985, -0.51947595, -0.47000205,\n",
       "       -0.42052815, -0.37105425, -0.32158035, -0.27210645, -0.22263255,\n",
       "       -0.17315865, -0.12368475, -0.07421085, -0.02473695,  0.02473695,\n",
       "        0.07421085,  0.12368475,  0.17315865,  0.22263255,  0.27210645,\n",
       "        0.32158035,  0.37105425,  0.42052815,  0.47000205,  0.51947595,\n",
       "        0.56894985,  0.61842375,  0.66789765,  0.71737155,  0.76684545,\n",
       "        0.81631935,  0.86579325,  0.91526715,  0.96474105,  1.01421495,\n",
       "        1.06368885,  1.11316275,  1.16263665,  1.21211055,  1.26158445,\n",
       "        1.31105835,  1.36053225,  1.41000615,  1.45948005,  1.50895395,\n",
       "        1.55842785,  1.60790175,  1.65737565,  1.70684955,  1.75632345,\n",
       "        1.80579735,  1.85527125,  1.90474515,  1.95421905,  2.00369295,\n",
       "        2.05316685,  2.10264075,  2.15211465,  2.20158855,  2.25106245,\n",
       "        2.30053635,  2.35001025,  2.39948415,  2.44895805,  2.49843195,\n",
       "        2.54790585,  2.59737975,  2.64685365,  2.69632755,  2.74580145,\n",
       "        2.79527535,  2.84474925,  2.89422315,  2.94369705,  2.99317095,\n",
       "        3.04264485,  3.09211875,  3.14159265])"
      ]
     },
     "execution_count": 75,
     "metadata": {},
     "output_type": "execute_result"
    }
   ],
   "source": [
    "X"
   ]
  },
  {
   "cell_type": "markdown",
   "metadata": {},
   "source": [
    "    C"
   ]
  },
  {
   "cell_type": "code",
   "execution_count": 76,
   "metadata": {},
   "outputs": [
    {
     "data": {
      "text/plain": [
       "array([-1.        , -0.99877642, -0.99510866, -0.9890057 , -0.98048249,\n",
       "       -0.96955986, -0.95626457, -0.94062913, -0.92269182, -0.90249652,\n",
       "       -0.88009266, -0.85553507, -0.82888384, -0.8002042 , -0.76956632,\n",
       "       -0.73704518, -0.70272037, -0.66667589, -0.62899993, -0.58978471,\n",
       "       -0.54912619, -0.50712386, -0.46388052, -0.41950198, -0.37409685,\n",
       "       -0.32777625, -0.28065352, -0.23284398, -0.18446464, -0.13563388,\n",
       "       -0.0864712 , -0.03709691,  0.01236816,  0.06180296,  0.11108653,\n",
       "        0.16009824,  0.20871817,  0.25682733,  0.30430798,  0.35104395,\n",
       "        0.39692085,  0.44182643,  0.48565077,  0.52828665,  0.56962973,\n",
       "        0.60957882,  0.64803617,  0.68490767,  0.72010309,  0.75353629,\n",
       "        0.78512546,  0.8147933 ,  0.84246721,  0.86807945,  0.89156736,\n",
       "        0.91287345,  0.93194559,  0.94873711,  0.9632069 ,  0.97531957,\n",
       "        0.98504546,  0.99236079,  0.99724764,  0.99969406,  0.99969406,\n",
       "        0.99724764,  0.99236079,  0.98504546,  0.97531957,  0.9632069 ,\n",
       "        0.94873711,  0.93194559,  0.91287345,  0.89156736,  0.86807945,\n",
       "        0.84246721,  0.8147933 ,  0.78512546,  0.75353629,  0.72010309,\n",
       "        0.68490767,  0.64803617,  0.60957882,  0.56962973,  0.52828665,\n",
       "        0.48565077,  0.44182643,  0.39692085,  0.35104395,  0.30430798,\n",
       "        0.25682733,  0.20871817,  0.16009824,  0.11108653,  0.06180296,\n",
       "        0.01236816, -0.03709691, -0.0864712 , -0.13563388, -0.18446464,\n",
       "       -0.23284398, -0.28065352, -0.32777625, -0.37409685, -0.41950198,\n",
       "       -0.46388052, -0.50712386, -0.54912619, -0.58978471, -0.62899993,\n",
       "       -0.66667589, -0.70272037, -0.73704518, -0.76956632, -0.8002042 ,\n",
       "       -0.82888384, -0.85553507, -0.88009266, -0.90249652, -0.92269182,\n",
       "       -0.94062913, -0.95626457, -0.96955986, -0.98048249, -0.9890057 ,\n",
       "       -0.99510866, -0.99877642, -1.        ])"
      ]
     },
     "execution_count": 76,
     "metadata": {},
     "output_type": "execute_result"
    }
   ],
   "source": [
    "C"
   ]
  },
  {
   "cell_type": "markdown",
   "metadata": {},
   "source": [
    "    S"
   ]
  },
  {
   "cell_type": "code",
   "execution_count": 77,
   "metadata": {},
   "outputs": [
    {
     "data": {
      "text/plain": [
       "array([-1.22464680e-16, -4.94537199e-02, -9.87864183e-02, -1.47877370e-01,\n",
       "       -1.96606441e-01, -2.44854382e-01, -2.92503125e-01, -3.39436063e-01,\n",
       "       -3.85538344e-01, -4.30697148e-01, -4.74801964e-01, -5.17744860e-01,\n",
       "       -5.59420747e-01, -5.99727639e-01, -6.38566896e-01, -6.75843473e-01,\n",
       "       -7.11466148e-01, -7.45347746e-01, -7.77405353e-01, -8.07560519e-01,\n",
       "       -8.35739449e-01, -8.61873185e-01, -8.85897772e-01, -9.07754419e-01,\n",
       "       -9.27389639e-01, -9.44755382e-01, -9.59809149e-01, -9.72514103e-01,\n",
       "       -9.82839151e-01, -9.90759028e-01, -9.96254351e-01, -9.99311673e-01,\n",
       "       -9.99923511e-01, -9.98088370e-01, -9.93810738e-01, -9.87101086e-01,\n",
       "       -9.77975832e-01, -9.66457306e-01, -9.52573698e-01, -9.36358983e-01,\n",
       "       -9.17852840e-01, -8.97100557e-01, -8.74152919e-01, -8.49066083e-01,\n",
       "       -8.21901439e-01, -7.92725465e-01, -7.61609559e-01, -7.28629866e-01,\n",
       "       -6.93867094e-01, -6.57406313e-01, -6.19336749e-01, -5.79751564e-01,\n",
       "       -5.38747630e-01, -4.96425290e-01, -4.52888114e-01, -4.08242645e-01,\n",
       "       -3.62598137e-01, -3.16066292e-01, -2.68760979e-01, -2.20797963e-01,\n",
       "       -1.72294617e-01, -1.23369638e-01, -7.41427526e-02, -2.47344273e-02,\n",
       "        2.47344273e-02,  7.41427526e-02,  1.23369638e-01,  1.72294617e-01,\n",
       "        2.20797963e-01,  2.68760979e-01,  3.16066292e-01,  3.62598137e-01,\n",
       "        4.08242645e-01,  4.52888114e-01,  4.96425290e-01,  5.38747630e-01,\n",
       "        5.79751564e-01,  6.19336749e-01,  6.57406313e-01,  6.93867094e-01,\n",
       "        7.28629866e-01,  7.61609559e-01,  7.92725465e-01,  8.21901439e-01,\n",
       "        8.49066083e-01,  8.74152919e-01,  8.97100557e-01,  9.17852840e-01,\n",
       "        9.36358983e-01,  9.52573698e-01,  9.66457306e-01,  9.77975832e-01,\n",
       "        9.87101086e-01,  9.93810738e-01,  9.98088370e-01,  9.99923511e-01,\n",
       "        9.99311673e-01,  9.96254351e-01,  9.90759028e-01,  9.82839151e-01,\n",
       "        9.72514103e-01,  9.59809149e-01,  9.44755382e-01,  9.27389639e-01,\n",
       "        9.07754419e-01,  8.85897772e-01,  8.61873185e-01,  8.35739449e-01,\n",
       "        8.07560519e-01,  7.77405353e-01,  7.45347746e-01,  7.11466148e-01,\n",
       "        6.75843473e-01,  6.38566896e-01,  5.99727639e-01,  5.59420747e-01,\n",
       "        5.17744860e-01,  4.74801964e-01,  4.30697148e-01,  3.85538344e-01,\n",
       "        3.39436063e-01,  2.92503125e-01,  2.44854382e-01,  1.96606441e-01,\n",
       "        1.47877370e-01,  9.87864183e-02,  4.94537199e-02,  1.22464680e-16])"
      ]
     },
     "execution_count": 77,
     "metadata": {},
     "output_type": "execute_result"
    }
   ],
   "source": [
    "S"
   ]
  },
  {
   "cell_type": "markdown",
   "metadata": {},
   "source": [
    "The **plot** function takes two arrays of the same size, one for the x values and the other for the y values and generates a plot. Note that we used the *plot* function twice, one for each funtion to be plotted. The **show** function superimposed the two plots and makes them visible."
   ]
  },
  {
   "cell_type": "markdown",
   "metadata": {},
   "source": [
    "### Default plotting options"
   ]
  },
  {
   "cell_type": "markdown",
   "metadata": {},
   "source": [
    "In the cell below, we've initialised all the figure settings that influence the appearance of the plot. Lines starting with *#* are comments and they are not executed. It is good practice, especially for longer sets of commands, to introduce explanatory comments (it is surprising how difficult it can be to read code that at the time of writing seemed obvious). The settings have been explicitly set to their default values. We will proceed to change these values in order to change the appearance of the plot. At the bottom of this notebook you will find <a href=\"#reference\">reference tables</a> with some of the values these options can take."
   ]
  },
  {
   "cell_type": "code",
   "execution_count": 78,
   "metadata": {},
   "outputs": [
    {
     "data": {
      "image/png": "[encoded data removed]",
      "text/plain": [
       "<Figure size 432x288 with 1 Axes>"
      ]
     },
     "metadata": {
      "needs_background": "light"
     },
     "output_type": "display_data"
    }
   ],
   "source": [
    "# Create a new figure of size 6x4 points\n",
    "figure(figsize=(6,4))\n",
    "\n",
    "# Technically these are already defined as we constructed them above, but we'll define them again for the sake of clarity\n",
    "X = linspace(-pi, pi, 128)\n",
    "C = cos(X)\n",
    "S = sin(X)\n",
    "\n",
    "# Plot cosine using blue color with a continuous line of width 1 (pixels)\n",
    "plot(X, C, color=\"blue\", linewidth=1.0, linestyle=\"-\",marker=\"\")\n",
    "\n",
    "# Plot sine using green color with a continuous line of width 1 (pixels)\n",
    "plot(X, S, color=\"green\", linewidth=1.0, linestyle=\"-\",marker=\"\")\n",
    "\n",
    "# Set x limits\n",
    "xlim(-4.0,4.0)\n",
    "\n",
    "# Set x ticks\n",
    "xticks(linspace(-4,4,9))\n",
    "\n",
    "# Set y limits\n",
    "ylim(-1.0,1.0)\n",
    "\n",
    "# Set y ticks\n",
    "yticks(linspace(-1,1,5))\n",
    "\n",
    "# Show result on screen\n",
    "show()"
   ]
  },
  {
   "cell_type": "markdown",
   "metadata": {},
   "source": [
    "### Changing colors and line widths"
   ]
  },
  {
   "cell_type": "markdown",
   "metadata": {},
   "source": [
    "We want to have the cosine in blue, slightly thicker line, and the sine plotted as red circular markers. We'll also slightly alter the figure size to make it a little larger and more horizontal.\n",
    "\n",
    "    figure(figsize=(10,6))\n",
    "    plot(X, C, color=\"blue\", linewidth=2.5, linestyle=\"-\")\n",
    "    plot(X, S, color=\"red\", linestyle=\"None\", marker='o')\n",
    "    show()"
   ]
  },
  {
   "cell_type": "code",
   "execution_count": 79,
   "metadata": {},
   "outputs": [
    {
     "data": {
      "image/png": "[encoded data removed]",
      "text/plain": [
       "<Figure size 720x432 with 1 Axes>"
      ]
     },
     "metadata": {
      "needs_background": "light"
     },
     "output_type": "display_data"
    }
   ],
   "source": [
    "figure(figsize=(10,6))\n",
    "plot(X,C,color=\"blue\",linewidth=2.5,linestyle=\"-\")\n",
    "plot(X,S,color=\"red\",linestyle=\"none\",marker='o')\n",
    "show()"
   ]
  },
  {
   "cell_type": "markdown",
   "metadata": {},
   "source": [
    "### Setting limits"
   ]
  },
  {
   "cell_type": "markdown",
   "metadata": {},
   "source": [
    "The y-axis limits of the figure are a bit too tight and the x-axis limits a bit too loose. We'll use the commands **xlim** and **ylim** to better centre the data.\n",
    "\n",
    "\n",
    "    figure(figsize=(10,6))\n",
    "    plot(X, C, color=\"blue\", linewidth=2.5, linestyle=\"-\")\n",
    "    plot(X, S, color=\"red\", linestyle=\"None\", marker='o')\n",
    "\n",
    "    xlim(-pi*1.1, pi*1.1)\n",
    "    ylim(-1.1, 1.1)\n",
    "\n",
    "    show()"
   ]
  },
  {
   "cell_type": "code",
   "execution_count": 80,
   "metadata": {},
   "outputs": [
    {
     "data": {
      "image/png": "[encoded data removed]",
      "text/plain": [
       "<Figure size 720x432 with 1 Axes>"
      ]
     },
     "metadata": {
      "needs_background": "light"
     },
     "output_type": "display_data"
    }
   ],
   "source": [
    "figure(figsize=(10,6))\n",
    "plot(X,C,color=\"blue\",linewidth=2.5,linestyle=\"-\")\n",
    "plot(X,S,color=\"red\",linestyle=\"none\",marker='o')\n",
    "xlim(-pi*1.2,pi*1.2)\n",
    "ylim(-1.2,1.2)\n",
    "show()"
   ]
  },
  {
   "cell_type": "markdown",
   "metadata": {},
   "source": [
    "### Setting ticks"
   ]
  },
  {
   "cell_type": "markdown",
   "metadata": {},
   "source": [
    "Current ticks are not ideal because they do not show the interesting values (+/-&pi;,+/-&pi;/2) for sine and cosine. We'll change them using **xticks** and **yticks** such that they show only these values.\n",
    "\n",
    "    figure(figsize=(10,6))\n",
    "    plot(X, C, color=\"blue\", linewidth=2.5, linestyle=\"-\")\n",
    "    plot(X, S, color=\"red\", linestyle=\"None\", marker='o')\n",
    "\n",
    "    xlim(-pi*1.1, pi*1.1)\n",
    "    ylim(-1.1, 1.1)\n",
    "\n",
    "    xticks([-pi, -pi/2, 0, pi/2, pi])\n",
    "    yticks([-1, 0, +1])\n",
    "\n",
    "    show()"
   ]
  },
  {
   "cell_type": "code",
   "execution_count": 81,
   "metadata": {},
   "outputs": [
    {
     "data": {
      "image/png": "[encoded data removed]",
      "text/plain": [
       "<Figure size 720x432 with 1 Axes>"
      ]
     },
     "metadata": {
      "needs_background": "light"
     },
     "output_type": "display_data"
    }
   ],
   "source": [
    "figure(figsize=(10,6))\n",
    "plot(X,C,color=\"blue\",linewidth=2.5,linestyle=\"-\")\n",
    "plot(X,S,color=\"red\",linestyle=\"none\",marker='o')\n",
    "xlim(-pi*1.2,pi*1.2)\n",
    "ylim(-1.2,1.2)\n",
    "xticks([-pi,-pi/2,0,pi/2,pi])\n",
    "yticks([-1,0,1])\n",
    "show()"
   ]
  },
  {
   "cell_type": "markdown",
   "metadata": {},
   "source": [
    "### Setting tick labels"
   ]
  },
  {
   "cell_type": "markdown",
   "metadata": {},
   "source": [
    "Ticks are now properly placed but their label is not very explicit. We could guess that 3.142 is &pi; but it would be better to make it explicit. When we set tick values, we can also provide a corresponding label in the second argument list. \n",
    "\n",
    "The plottling library accepts the same math syntax equation expressions in text (including titles and axis labels) that the markdown cells do. For example to use $\\pi$ we can write the expression surrounded by dollar signs: '\\$\\pi\\$'. For consistency we'll use math rendering for the numbers too.\n",
    "\n",
    "    figure(figsize=(10,6))\n",
    "    plot(X, C, color=\"blue\", linewidth=2.5, linestyle=\"-\")\n",
    "    plot(X, S, color=\"red\", linestyle=\"None\", marker='o')\n",
    "\n",
    "    xlim(-pi*1.1, pi*1.1)\n",
    "    ylim(-1.1, 1.1)\n",
    "\n",
    "    xticks([-pi, -pi/2, 0, pi/2, pi], \n",
    "           ['$-\\pi$', '$-\\pi/2$', '$0$', '$+\\pi/2$', '$+\\pi$'])\n",
    "\n",
    "    yticks([-1, 0, +1],\n",
    "           ['$-1$', '$0$', '$+1$'])\n",
    "\n",
    "    show()"
   ]
  },
  {
   "cell_type": "code",
   "execution_count": 82,
   "metadata": {},
   "outputs": [
    {
     "data": {
      "image/png": "[encoded data removed]",
      "text/plain": [
       "<Figure size 720x432 with 1 Axes>"
      ]
     },
     "metadata": {
      "needs_background": "light"
     },
     "output_type": "display_data"
    }
   ],
   "source": [
    "figure(figsize=(10,6))\n",
    "plot(X,C,color=\"blue\",linewidth=2.5,linestyle=\"-\")\n",
    "plot(X,S,color=\"red\",linestyle=\"none\",marker='o')\n",
    "xlim(-pi*1.2,pi*1.2)\n",
    "ylim(-1.2,1.2)\n",
    "xticks([-pi,-pi/2,0,pi/2,pi],\n",
    "      ['$-\\pi$','$-\\pi/2$','$0$','$+\\pi/2$','$+\\pi$'])\n",
    "yticks([-1,0,1],\n",
    "       ['$-1$','$0$','$+1$'])\n",
    "show()"
   ]
  },
  {
   "cell_type": "markdown",
   "metadata": {},
   "source": [
    "### Adding a legend"
   ]
  },
  {
   "cell_type": "markdown",
   "metadata": {},
   "source": [
    "Let's add a legend in the upper left corner using the **legend** functions. This also requires adding the argument label to the plot commands.\n",
    "\n",
    "\n",
    "    figure(figsize=(10,6))\n",
    "\n",
    "    xlim(-pi*1.1, pi*1.1)\n",
    "    ylim(-1.1, 1.1)\n",
    "\n",
    "    xticks([-pi, -pi/2, 0, pi/2, pi], \n",
    "           ['$-\\pi$', '$-\\pi/2$', '$0$', '$+\\pi/2$', '$+\\pi$'])\n",
    "\n",
    "    yticks([-1, 0, +1],\n",
    "           ['$-1$', '$0$', '$+1$'])\n",
    "\n",
    "    plot(X, C, color=\"blue\", linewidth=2.5, linestyle=\"-\", label=\"cosine\")\n",
    "    plot(X, S, color=\"red\", linestyle=\"None\", marker=\"o\", label=\"sine\")\n",
    "\n",
    "    legend(loc='upper left')\n",
    "\n",
    "    show()\n"
   ]
  },
  {
   "cell_type": "code",
   "execution_count": 83,
   "metadata": {},
   "outputs": [
    {
     "data": {
      "image/png": "[encoded data removed]",
      "text/plain": [
       "<Figure size 720x432 with 1 Axes>"
      ]
     },
     "metadata": {
      "needs_background": "light"
     },
     "output_type": "display_data"
    }
   ],
   "source": [
    "figure(figsize=(10,6))\n",
    "plot(X,C,color=\"blue\",linewidth=2.5,linestyle=\"-\",label=\"cosine\")\n",
    "plot(X,S,color=\"red\",linestyle=\"none\",marker='o',label=\"sine\")\n",
    "xlim(-pi*1.2,pi*1.2)\n",
    "ylim(-1.2,1.2)\n",
    "xticks([-pi,-pi/2,0,pi/2,pi],\n",
    "      ['$-\\pi$','$-\\pi/2$','$0$','$+\\pi/2$','$+\\pi$'])\n",
    "yticks([-1,0,1],\n",
    "       ['$-1$','$0$','$+1$'])\n",
    "legend(loc='upper left')\n",
    "show()"
   ]
  },
  {
   "cell_type": "markdown",
   "metadata": {},
   "source": [
    "**The next three changes become progressively more involved. Have a look at the changes (you don't need to type them out this time) and execute the cells to see the results. Don't worry too much if the commands look strange, we've included them here as a reference in case you want to do something like this at a later date.**"
   ]
  },
  {
   "cell_type": "markdown",
   "metadata": {},
   "source": [
    "### Moving spines"
   ]
  },
  {
   "cell_type": "markdown",
   "metadata": {},
   "source": [
    "Spines are the lines connecting the axis tick marks and noting the boundaries of the data area. They can be placed at arbitrary positions and until now, they were on the border of the axis. We'll change that since we want to have them in the middle. Since there are four of them (top/bottom/left/right), we'll discard the top and right by setting their color to none and we'll move the bottom and left ones to coordinate 0 in data space coordinates."
   ]
  },
  {
   "cell_type": "code",
   "execution_count": 84,
   "metadata": {},
   "outputs": [
    {
     "data": {
      "image/png": "[encoded data removed]",
      "text/plain": [
       "<Figure size 720x432 with 1 Axes>"
      ]
     },
     "metadata": {
      "needs_background": "light"
     },
     "output_type": "display_data"
    }
   ],
   "source": [
    "figure(figsize=(10,6))\n",
    "\n",
    "#get the axis object\n",
    "ax = gca()\n",
    "#make the right spine invisible\n",
    "ax.spines['right'].set_color('none')\n",
    "#make the top spine invisible\n",
    "ax.spines['top'].set_color('none')\n",
    "#move the bottom spine to the zero of y axis\n",
    "ax.spines['bottom'].set_position(['data',0])\n",
    "#move the left spine to the zero of x axis\n",
    "ax.spines['left'].set_position(['data',0])\n",
    "\n",
    "#keep ticks only on spines that remain visible\n",
    "ax.xaxis.set_ticks_position('bottom')\n",
    "ax.yaxis.set_ticks_position('left')\n",
    "\n",
    "xlim(-pi*1.1, pi*1.1)\n",
    "ylim(-1.1, 1.1)\n",
    "\n",
    "xticks([-pi, -pi/2, 0, pi/2, pi], \n",
    "       ['$-\\pi$', '$-\\pi/2$', '$0$', '$+\\pi/2$', '$+\\pi$'])\n",
    "\n",
    "yticks([-1, 0, +1],\n",
    "       ['$-1$', '$0$', '$+1$'])\n",
    "\n",
    "plot(X, C, color=\"blue\", linewidth=2.5, linestyle=\"-\", label=\"cosine\")\n",
    "plot(X, S, color=\"red\", linestyle=\"None\", marker=\"o\", label=\"sine\")\n",
    "\n",
    "legend(loc='upper left')\n",
    "\n",
    "show()"
   ]
  },
  {
   "cell_type": "markdown",
   "metadata": {},
   "source": [
    "### Annotate some points"
   ]
  },
  {
   "cell_type": "markdown",
   "metadata": {},
   "source": [
    "Let's annotate some interesting points using the text command. We chose the 2π/3 value and we want to annotate both the sine and the cosine. We'll first draw a marker on the curve as well as a straight dotted line. Then, we'll use the text and arrow commands to display some text with an arrow."
   ]
  },
  {
   "cell_type": "code",
   "execution_count": 85,
   "metadata": {},
   "outputs": [
    {
     "data": {
      "image/png": "[encoded data removed]",
      "text/plain": [
       "<Figure size 720x432 with 1 Axes>"
      ]
     },
     "metadata": {
      "needs_background": "light"
     },
     "output_type": "display_data"
    }
   ],
   "source": [
    "figure(figsize=(10,6))\n",
    "\n",
    "ax = gca()\n",
    "ax.spines['right'].set_color('none')\n",
    "ax.spines['top'].set_color('none')\n",
    "ax.spines['bottom'].set_position(['data',0])\n",
    "ax.spines['left'].set_position(['data',0])\n",
    "\n",
    "ax.xaxis.set_ticks_position('bottom')\n",
    "ax.yaxis.set_ticks_position('left')\n",
    "\n",
    "xlim(-pi*1.1, pi*1.1)\n",
    "ylim(-1.1, 1.1)\n",
    "\n",
    "xticks([-pi, -pi/2, 0, pi/2, pi], \n",
    "       ['$-\\pi$', '$-\\pi/2$', '$0$', '$+\\pi/2$', '$+\\pi$'])\n",
    "\n",
    "yticks([-1, 0, +1],\n",
    "       ['$-1$', '$0$', '$+1$'])\n",
    "\n",
    "plot(X, C, color=\"blue\", linewidth=2.5, linestyle=\"-\", label=\"cosine\")\n",
    "plot(X, S, color=\"red\", linestyle=\"None\", marker=\"o\", label=\"sine\")\n",
    "\n",
    "legend(loc='upper left')\n",
    "\n",
    "#the x value we're going to consider\n",
    "t = 2*pi/3\n",
    "#plot the blue diamond \n",
    "plot(array([t,t]),array([0,cos(t)]), color ='blue', linewidth=2.5, linestyle=\":\")\n",
    "plot(array([t]),array([cos(t)]), color ='blue', marker='D', markersize=10)\n",
    "#plot label and arrow\n",
    "text(2.3, 1.05, r'$\\sin(\\frac{2\\pi}{3})=\\frac{\\sqrt{3}}{2}$', fontsize=16)\n",
    "arrow(2.4, 1.0, -0.15, -0.07, head_width=0.05, head_length=0.05)\n",
    "\n",
    "#plot the red diamond\n",
    "plot(array([t,t]),array([0,sin(t)]), color ='red', linewidth=2.5, linestyle=\":\")\n",
    "plot(array([t]),array([sin(t)]), color ='red', marker='D', markersize=10)\n",
    "#plot alabel and arrow\n",
    "text(0.75, -0.75, r'$\\cos(\\frac{2\\pi}{3})=-\\frac{1}{2}$', fontsize=16)\n",
    "arrow(1.85, -0.65, 0.12, 0.08, head_width=0.05, head_length=0.05)\n",
    "\n",
    "show()"
   ]
  },
  {
   "cell_type": "markdown",
   "metadata": {},
   "source": [
    "### Devil is in the details"
   ]
  },
  {
   "cell_type": "markdown",
   "metadata": {},
   "source": [
    "The tick labels are now hardly visible because of the blue and red lines. We can make them bigger and we can also adjust their properties such that they'll be rendered on a semi-transparent white background. This will allow us to see both the data and the labels."
   ]
  },
  {
   "cell_type": "code",
   "execution_count": 86,
   "metadata": {},
   "outputs": [
    {
     "data": {
      "image/png": "[encoded data removed]",
      "text/plain": [
       "<Figure size 720x432 with 1 Axes>"
      ]
     },
     "metadata": {
      "needs_background": "light"
     },
     "output_type": "display_data"
    }
   ],
   "source": [
    "figure(figsize=(10,6))\n",
    "\n",
    "#moves spines go through (0,0)\n",
    "ax = gca()\n",
    "ax.spines['right'].set_color('none')\n",
    "ax.spines['top'].set_color('none')\n",
    "ax.spines['bottom'].set_position(['data',0])\n",
    "ax.spines['left'].set_position(['data',0])\n",
    "\n",
    "#sets which side of the spines the ticks are on\n",
    "ax.xaxis.set_ticks_position('bottom')\n",
    "ax.yaxis.set_ticks_position('left')\n",
    "\n",
    "#sets the limits of the x and y axis\n",
    "xlim(-pi*1.1, pi*1.1)\n",
    "ylim(-1.1, 1.1)\n",
    "\n",
    "#the ticks on the x and y axis\n",
    "xticks([-pi, -pi/2, 0, pi/2, pi], \n",
    "       ['$-\\pi$', '$-\\pi/2$', '$0$', '$+\\pi/2$', '$+\\pi$'])\n",
    "\n",
    "yticks([-1, 0, +1],\n",
    "       ['$-1$', '$0$', '$+1$'])\n",
    "\n",
    "###extra lines###\n",
    "#formatting of ticks\n",
    "for label in ax.get_xticklabels() + ax.get_yticklabels():\n",
    "    label.set_fontsize(16)\n",
    "    label.set_bbox(dict(facecolor='white', edgecolor='none', alpha=0.65 ))\n",
    "\n",
    "#line plots\n",
    "plot(X, C, color=\"blue\", linewidth=2.5, linestyle=\"-\", label=\"cosine\")\n",
    "plot(X, S, color=\"red\", linestyle=\"None\", marker=\"o\", label=\"sine\")\n",
    "legend(loc='upper left')\n",
    "\n",
    "#highlighting key points\n",
    "t = 2*pi/3\n",
    "plot(array([t,t]),array([0,cos(t)]), color ='blue', linewidth=2.5, linestyle=\":\")\n",
    "plot(array([t]),array([cos(t)]), color ='blue', marker='D', markersize=10)\n",
    "plot(array([t,t]),array([0,sin(t)]), color ='red', linewidth=2.5, linestyle=\":\")\n",
    "plot(array([t]),array([sin(t)]), color ='red', marker='D', markersize=10)\n",
    "\n",
    "text(2.3, 1.05, r'$\\sin(\\frac{2\\pi}{3})=\\frac{\\sqrt{3}}{2}$', fontsize=16)\n",
    "arrow(2.4, 1.0, -0.15, -0.07, head_width=0.05, head_length=0.05)\n",
    "text(0.75, -0.75, r'$\\cos(\\frac{2\\pi}{3})=-\\frac{1}{2}$', fontsize=16)\n",
    "arrow(1.85, -0.65, 0.12, 0.08, head_width=0.05, head_length=0.05)\n",
    "\n",
    "show()"
   ]
  },
  {
   "cell_type": "markdown",
   "metadata": {},
   "source": [
    "## More plots! <a id=\"otherplots\"></a>"
   ]
  },
  {
   "cell_type": "markdown",
   "metadata": {},
   "source": [
    "### Bar graphs"
   ]
  },
  {
   "cell_type": "markdown",
   "metadata": {},
   "source": [
    "Matplotlib includes many other kinds of charts, we'll go through a couple more here but to see the full list you can visit the matplotlib [gallery](http://matplotlib.org/gallery.html)."
   ]
  },
  {
   "cell_type": "markdown",
   "metadata": {},
   "source": [
    "lets define some more data:\n",
    "    \n",
    "    x = array([0, 1, 2, 3, 4, 5, 6, 7])\n",
    "    y = array([ 4, 11, 6, 5, -4, 3.5, 7, 9.1])"
   ]
  },
  {
   "cell_type": "code",
   "execution_count": 87,
   "metadata": {},
   "outputs": [],
   "source": [
    "x=array([0,1,2,3,4,5,6,7])\n",
    "y=array([4,11,6,5,-4,3.5,7,9.1])"
   ]
  },
  {
   "cell_type": "markdown",
   "metadata": {},
   "source": [
    "Then we'll create a basic bar chart\n",
    "\n",
    "    width = 1/1.5\n",
    "    bar(x, y, width)\n",
    "    show()"
   ]
  },
  {
   "cell_type": "code",
   "execution_count": 88,
   "metadata": {},
   "outputs": [
    {
     "data": {
      "image/png": "[encoded data removed]",
      "text/plain": [
       "<Figure size 432x288 with 1 Axes>"
      ]
     },
     "metadata": {
      "needs_background": "light"
     },
     "output_type": "display_data"
    }
   ],
   "source": [
    "width=1/1.5\n",
    "bar(x,y,width)\n",
    "show()"
   ]
  },
  {
   "cell_type": "markdown",
   "metadata": {},
   "source": [
    "As with other plots there are many parameters that can be fine tuned:\n",
    "\n",
    "\n",
    "    labels = ['data1','data2','data3','data4','data5','data6','data7','data8']\n",
    "    width = 1\n",
    "\n",
    "    xticks(x + width/2.0, labels )\n",
    "    ylabel('Intensity')\n",
    "\n",
    "    bar(x, y, width, color=\"cyan\")\n",
    "    show()"
   ]
  },
  {
   "cell_type": "code",
   "execution_count": 89,
   "metadata": {},
   "outputs": [
    {
     "data": {
      "image/png": "[encoded data removed]",
      "text/plain": [
       "<Figure size 432x288 with 1 Axes>"
      ]
     },
     "metadata": {
      "needs_background": "light"
     },
     "output_type": "display_data"
    }
   ],
   "source": [
    "labels=['data2','data2','data3','data4','data5','data6','data7','data8']\n",
    "width=1\n",
    "xticks(x+width/2.0,labels)\n",
    "ylabel('Intensity')\n",
    "bar(x,y,width,color=\"cyan\")\n",
    "show()"
   ]
  },
  {
   "cell_type": "markdown",
   "metadata": {},
   "source": [
    "### Histograms"
   ]
  },
  {
   "cell_type": "markdown",
   "metadata": {},
   "source": [
    "Histograms are a particular kind of plot used frequently in the statistical analysis of experimental data. It displays the number of times a particular element (or range of elements) occurs in a dataset.\n",
    "We could create histograms by a creating the relevant binned data and then using a bar chart, however there is a specialised histogram plotting function **hist** that does this automatically:\n",
    "\n",
    "    data = array([1, 1, 1, 3, 2, 5, 1, 10, 10, 8])\n",
    "\n",
    "    hist(data, bins=12, color=\"magenta\")\n",
    "    xlabel('bins')\n",
    "    ylabel('count')\n",
    "\n",
    "    xlim(0,12)\n",
    "    show()"
   ]
  },
  {
   "cell_type": "code",
   "execution_count": 90,
   "metadata": {},
   "outputs": [
    {
     "data": {
      "image/png": "[encoded data removed]",
      "text/plain": [
       "<Figure size 432x288 with 1 Axes>"
      ]
     },
     "metadata": {
      "needs_background": "light"
     },
     "output_type": "display_data"
    }
   ],
   "source": [
    "data=array([1,1,1,3,2,5,1,10,10,8])\n",
    "hist(data,bins=12,color=\"magenta\")\n",
    "xlabel('bins')\n",
    "ylabel('count')\n",
    "xlim(0,12)\n",
    "show()"
   ]
  },
  {
   "cell_type": "markdown",
   "metadata": {},
   "source": [
    "We'll encounter histograms again in the next workshop."
   ]
  },
  {
   "cell_type": "markdown",
   "metadata": {},
   "source": [
    "## Saving plots"
   ]
  },
  {
   "cell_type": "markdown",
   "metadata": {},
   "source": [
    "Although it is extremelly convenient to have your plots collected in a notebook like this one, together with the code and data that they depend upon, it is often useful to export them as figures, either for publishing or for manipulation with other programs. This can be done easily using the function **savefig**:\n",
    "\n",
    "    x=linspace(0,6*pi,128)\n",
    "    y=e**(-x/10)*cos(x)\n",
    "\n",
    "    title('Saving this plot')\n",
    "    plot(x,y)\n",
    "\n",
    "    savefig('saved_plot.svg')\n",
    "    show()"
   ]
  },
  {
   "cell_type": "code",
   "execution_count": 91,
   "metadata": {},
   "outputs": [
    {
     "data": {
      "image/png": "[encoded data removed]",
      "text/plain": [
       "<Figure size 432x288 with 1 Axes>"
      ]
     },
     "metadata": {
      "needs_background": "light"
     },
     "output_type": "display_data"
    }
   ],
   "source": [
    "x=linspace(0,6*pi,128)\n",
    "y=e**(-x/10)*cos(x)\n",
    "title('Saving this plot')\n",
    "plot(x,y)\n",
    "savefig('saved_plot.svg')\n",
    "show()"
   ]
  },
  {
   "cell_type": "markdown",
   "metadata": {},
   "source": [
    "Note on file formats: the notebook allows you to save files in either a vector (eg. [SVG](http://en.wikipedia.org/wiki/Scalable_Vector_Graphics), [EPS](http://en.wikipedia.org/wiki/Encapsulated_postscript), [PDF](http://en.wikipedia.org/wiki/PDF)) or raster format (eg. [PNG](http://en.wikipedia.org/wiki/Portable_network_graphics), [TIFF](http://en.wikipedia.org/wiki/TIFF), [JPEG](http://en.wikipedia.org/wiki/JPEG) - this last format is most appropriate for photographic images). In vector graphics formats the image is stored as a set of instructions used to recreate the image at display time in a resolution independent manner. In contrast, in raster formats the quality of the image depends the on the resolution with which the image was saved, and low resolution images don't mantain fedelity when resized. \n",
    "\n",
    "For most plots of data and mathematical functions, vector formats are more appropriate."
   ]
  },
  {
   "cell_type": "markdown",
   "metadata": {},
   "source": [
    "## Exercises <a id=\"exercises\"></a>"
   ]
  },
  {
   "cell_type": "markdown",
   "metadata": {},
   "source": [
    "### Exercise 1"
   ]
  },
  {
   "cell_type": "markdown",
   "metadata": {},
   "source": [
    "Here we present some solutions of a basic quantum mechanical model called [particle in a box](https://en.wikiversity.org/wiki/Quantum_mechanics/Particle_in_the_box) that you will learn about in the Quantum Chemistry module.\n",
    "\n",
    "Currently the solutions are superimposed. People often produce plots where they are seperated by shifting each function up along the y-axis by a different amount. Modify the code given below to reproduce the following image:\n",
    "\n",
    "![If you don't seen an image you may not be running the notebook on the same folder as the image files.](particle_in_box.svg \"Particle in a box wavefunctions. Target figure.\")"
   ]
  },
  {
   "cell_type": "code",
   "execution_count": 92,
   "metadata": {},
   "outputs": [
    {
     "data": {
      "image/png": "[encoded data removed]",
      "text/plain": [
       "<Figure size 648x432 with 1 Axes>"
      ]
     },
     "metadata": {
      "needs_background": "light"
     },
     "output_type": "display_data"
    }
   ],
   "source": [
    "figure(figsize=(9,6))\n",
    "\n",
    "L=10\n",
    "X = linspace(0,L,1000)\n",
    "\n",
    "plot(X, sin(1*pi*X/L), label='n=1', linewidth=2.5)\n",
    "plot(X, sin(2*pi*X/L)+2, label='n=2', linewidth=2.5)\n",
    "plot(X, sin(3*pi*X/L)+4, label='n=3', linewidth=2.5)\n",
    "plot(X, sin(4*pi*X/L)+7, label='n=4', linewidth=2.5)\n",
    "\n",
    "xlim(0, 10)\n",
    "ylim(0, 12)\n",
    "\n",
    "legend(loc='upper right')\n",
    "show()"
   ]
  },
  {
   "cell_type": "markdown",
   "metadata": {},
   "source": [
    "### Exercise 2"
   ]
  },
  {
   "cell_type": "markdown",
   "metadata": {},
   "source": [
    "The simplest model describing the vibration of a diatomic molecule is given by the [harmonic oscilator](http://en.wikipedia.org/wiki/Harmonic_oscillator), where the potential energy *V* of the molecule varies as a function of the internuclear distance *r* as\n",
    "\n",
    "$$V_{h}(r)=\\frac{k}{2}(r-r_e)^2.$$\n",
    "\n",
    "In this expression *r<sub>e</sub>* is the internuclear distance of equilibrium and *k* relates to the frequency of the vibration.\n",
    "\n",
    "A more realistic model of the diatomic molecule case is given by the [Morse potential](http://en.wikipedia.org/wiki/Morse_potential)\n",
    "\n",
    "$$V_{m}(r) = D ( 1-e^{-a(r-r_e)} )^2,$$\n",
    "\n",
    "where *D* corresponds to the dissociation energy.\n",
    "\n",
    "The cell bellow plots the two potential curves on the same figure."
   ]
  },
  {
   "cell_type": "code",
   "execution_count": 4,
   "metadata": {},
   "outputs": [
    {
     "data": {
      "image/png": "[encoded data removed]",
      "text/plain": [
       "<Figure size 432x288 with 1 Axes>"
      ]
     },
     "metadata": {
      "needs_background": "light"
     },
     "output_type": "display_data"
    }
   ],
   "source": [
    "D=1\n",
    "a=1\n",
    "re=1\n",
    "\n",
    "X = linspace(0,4,100)\n",
    "morse = D*(1-e**(-a*(X-re)))**2\n",
    "harmonic=(a**2)*D*(X-re)**2\n",
    "\n",
    "plot(X, morse, label=r'$V_m (r)$')\n",
    "plot(X, harmonic, color='red',label=r'$V_h (r)$')\n",
    "legend()\n",
    "title('D=1, a=1, re=1')\n",
    "\n",
    "xlabel('r')\n",
    "ylim(0,1.5)\n",
    "show()"
   ]
  },
  {
   "cell_type": "markdown",
   "metadata": {},
   "source": [
    "Based on the behaviour of the two functions at large *r* values, can you say why the Morse potential provides a more realistic picture the harmonic oscilator?\n",
    "\n",
    "The force between the two particles is equal to minus the derivative of the potential - $\\frac{dV(r)}{dr}$ (for whichever form the potential may have). \n",
    "\n",
    "This exercise requires the generation of two figures. One figure should include a plot of the Harmonic potential and a plot of the corresponding Harmonic force, the other figure should include a plot of the Morse potential and a plot of the corresponding Morse force. You'll also need to add, a title, label the x axis, create a legend and if you can, move the spines such that they crosses the *y* axis at 0. \n",
    "\n",
    "The figure below shows the result we are expecting for the Morse potential and force:\n",
    "￼\n",
    "![If you don't seen an image you may not be running the notebook on the same folder as the image files.](morse_exercise.svg \"Morse potential and force as a function of the interatomic distance. Target figure.\")"
   ]
  },
  {
   "cell_type": "code",
   "execution_count": 7,
   "metadata": {},
   "outputs": [
    {
     "data": {
      "image/png": "[encoded data removed]",
      "text/plain": [
       "<Figure size 720x432 with 1 Axes>"
      ]
     },
     "metadata": {
      "needs_background": "light"
     },
     "output_type": "display_data"
    }
   ],
   "source": [
    "figure(figsize=(10,6))\n",
    "\n",
    "k=1\n",
    "re=1\n",
    "X=linspace(0,4,100)\n",
    "\n",
    "harmonic_potential=(k/2)*(X-re)**2\n",
    "plot(X, harmonic_potential, label=r'$V_h (r)$', color='red')\n",
    "legend()\n",
    "\n",
    "harmonic_force=(-k)*(X-re)\n",
    "plot(X, harmonic_force, label=r'$F_h (r)$', color='orange')\n",
    "legend()\n",
    "\n",
    "title('Harmonic Oscillator Potential Energy and Force')\n",
    "\n",
    "ax = gca()\n",
    "ax.spines['right'].set_color('none')\n",
    "ax.spines['top'].set_color('none')\n",
    "ax.spines['bottom'].set_position(['data',0])\n",
    "ax.spines['left'].set_position(['data',0])\n",
    "ax.xaxis.set_ticks_position('bottom')\n",
    "ax.yaxis.set_ticks_position('left')\n",
    "\n",
    "xlim(0,4)\n",
    "xlabel('r')\n",
    "ylim(-3,5)\n",
    "\n",
    "show()"
   ]
  },
  {
   "cell_type": "code",
   "execution_count": 39,
   "metadata": {},
   "outputs": [
    {
     "data": {
      "image/png": "[encoded data removed]",
      "text/plain": [
       "<Figure size 720x432 with 1 Axes>"
      ]
     },
     "metadata": {
      "needs_background": "light"
     },
     "output_type": "display_data"
    }
   ],
   "source": [
    "figure(figsize=(10,6))\n",
    "\n",
    "D=1\n",
    "a=1\n",
    "re=1\n",
    "X=linspace(0,4,100)\n",
    "\n",
    "morse_potential=D*(1-e**(-a*(X-re)))**2\n",
    "plot(X, morse_potential, label=r'$V_m (r)$', color='blue')\n",
    "legend()\n",
    "\n",
    "morse_force=-(1-2*e**(2*re-2*X)+2*e**(re-X))\n",
    "plot(X, morse_force, label=r'$F_m (r)$', color='purple')\n",
    "legend()\n",
    "\n",
    "title('Morse Potential Energy and Force')\n",
    "\n",
    "ax = gca()\n",
    "ax.spines['right'].set_color('none')\n",
    "ax.spines['top'].set_color('none')\n",
    "ax.spines['bottom'].set_position(['data',0])\n",
    "ax.spines['left'].set_position(['data',0])\n",
    "ax.xaxis.set_ticks_position('bottom')\n",
    "ax.yaxis.set_ticks_position('left')\n",
    "\n",
    "xlim(0,4)\n",
    "xlabel('r')\n",
    "ylim(-2,2)\n",
    "\n",
    "show()"
   ]
  },
  {
   "cell_type": "markdown",
   "metadata": {},
   "source": [
    "### Exercise 3"
   ]
  },
  {
   "cell_type": "markdown",
   "metadata": {},
   "source": [
    "The code cell below generates a plot representing 3 periods of a damped oscillator. In this exercise you will be generating two figures where we colour the markers differently. On the first figure colour the markers corresponding to each period of the motion with a different colour. On the second figure colour the markers sequentially with three distinct colours (eg. blue, green, red, blue, green, red, blue, etc.). "
   ]
  },
  {
   "cell_type": "code",
   "execution_count": 32,
   "metadata": {},
   "outputs": [
    {
     "data": {
      "image/png": "[encoded data removed]",
      "text/plain": [
       "<Figure size 432x288 with 1 Axes>"
      ]
     },
     "metadata": {
      "needs_background": "light"
     },
     "output_type": "display_data"
    }
   ],
   "source": [
    "points=90\n",
    "x=linspace(0,6*pi,points)\n",
    "y=e**(-x/10)*cos(x)\n",
    "\n",
    "plot(x,y,linestyle='None',marker=7,alpha=0.5)\n",
    "show()"
   ]
  },
  {
   "cell_type": "code",
   "execution_count": 78,
   "metadata": {},
   "outputs": [],
   "source": [
    "plot?"
   ]
  },
  {
   "cell_type": "code",
   "execution_count": 102,
   "metadata": {},
   "outputs": [
    {
     "data": {
      "image/png": "[encoded data removed]",
      "text/plain": [
       "<Figure size 432x288 with 1 Axes>"
      ]
     },
     "metadata": {
      "needs_background": "light"
     },
     "output_type": "display_data"
    }
   ],
   "source": [
    "points=90\n",
    "x=linspace(0,6*pi,points)\n",
    "y=e**(-x/10)*cos(x)\n",
    "\n",
    "x1=x[:30]\n",
    "y1=e**(-x1/10)*cos(x1)\n",
    "x2=x[30:60]\n",
    "y2=e**(-x2/10)*cos(x2)\n",
    "x3=x[60:]\n",
    "y3=e**(-x3/10)*cos(x3)\n",
    "\n",
    "plot(x1,y1,linestyle='None',marker=7,color='red')\n",
    "plot(x2,y2,linestyle='None',marker=7,color='orange')\n",
    "plot(x3,y3,linestyle='None',marker=7,color='yellow')\n",
    "\n",
    "show()"
   ]
  },
  {
   "cell_type": "code",
   "execution_count": 106,
   "metadata": {},
   "outputs": [
    {
     "data": {
      "image/png": "[encoded data removed]",
      "text/plain": [
       "<Figure size 432x288 with 1 Axes>"
      ]
     },
     "metadata": {
      "needs_background": "light"
     },
     "output_type": "display_data"
    }
   ],
   "source": [
    "points=90\n",
    "x=linspace(0,6*pi,points)\n",
    "y=e**(-x/10)*cos(x)\n",
    "\n",
    "x1=x[0:90:3]\n",
    "y1=e**(-x1/10)*cos(x1)\n",
    "x2=x[1:90:3]\n",
    "y2=e**(-x2/10)*cos(x2)\n",
    "x3=x[2:90:3]\n",
    "y3=e**(-x3/10)*cos(x3)\n",
    "\n",
    "plot(x1,y1,linestyle='None',marker=7,color='blue')\n",
    "plot(x2,y2,linestyle='None',marker=7,color='green')\n",
    "plot(x3,y3,linestyle='None',marker=7,color='red')\n",
    "\n",
    "show()"
   ]
  },
  {
   "cell_type": "markdown",
   "metadata": {},
   "source": [
    "## Summary and outlook"
   ]
  },
  {
   "cell_type": "markdown",
   "metadata": {},
   "source": [
    "In this tutorial we introduced the IPython Jupyter notebook environment which should be a useful tool to analyse and visualise data throughout your degree. In this first workshop we covered the basic functioning of the notebook, important data structures such as arrays, and how to plot data and mathematical functions.\n",
    "\n",
    "In the next workshop we'll be building on the material covered here and looking in more detail into data manipulation and statistical analysis."
   ]
  },
  {
   "cell_type": "markdown",
   "metadata": {},
   "source": [
    "## Reference <a id=\"reference\"></a>"
   ]
  },
  {
   "cell_type": "markdown",
   "metadata": {},
   "source": [
    "### Line properties"
   ]
  },
  {
   "cell_type": "markdown",
   "metadata": {},
   "source": [
    "These are keywords given to the plot command see the documentation [here](http://matplotlib.org/api/lines_api.html)"
   ]
  },
  {
   "cell_type": "markdown",
   "metadata": {},
   "source": [
    "| Keyword | Description | Appearance |\n",
    "|:-------:|:------------|:-----------|\n",
    "| alpha (or a) | number \\[0-1\\] - transparency | ![different transparency](figures/alpha.png) |\n",
    "| antialiased | True or False - antialised rendering | ![sharp-edgy fonts](figures/aliased.png) ![smooth-fuzzy fonts](figures/antialiased.png) |\n",
    "| color (or c) | [color](http://matplotlib.org/api/colors_api.html#module-matplotlib.colors) argument - master colour | ![different colours](figures/color.png) |\n",
    "| linestyle (or ls) | string - see <a class=\"reference internal\" href=\"#line_styles\">line styles</a> below | |\n",
    "| linewidth (or lw) | number - the line width in points | ![different widths](figures/linewidth.png) |\n",
    "| solid_capstyle | ‘butt’ or ‘round’ or ‘projecting’ - sets cap style | ![line edges](figures/solid_capstyle.png) |\n",
    "| solid_joinstyle | ‘miter’ or ‘round’ or ‘bevel’ - join style for solid lines | ![](figures/solid_joinstyle.png) |\n",
    "| dash_capstyle | ‘butt’ or ‘round’ or ‘projecting’ - cap style for dashes | ![](figures/dash_capstyle.png) |\n",
    "| dash_joinstyle | ‘miter’ or ‘round’ or ‘bevel’ - join style for dashes | ![](figures/dash_joinstyle.png) |\n",
    "| marker | number/string - see <a class=\"reference internal\" href=\"#marker_styles\">markers</a> below | |\n",
    "| markeredgewidth (mew) | number - line width around the marker symbol| ![marker edge width](figures/mew.png) |\n",
    "| markeredgecolor (mec) | [color](http://matplotlib.org/api/colors_api.html#module-matplotlib.colors) - edge color if a marker is used | ![coloured marker edges](figures/mec.png) |\n",
    "| markerfacecolor (mfc) | [color](http://matplotlib.org/api/colors_api.html#module-matplotlib.colors) - face color if a marker is used | ![coloured marker body](figures/mfc.png) |\n",
    "| markersize (ms) | number - size of the marker in points | ![different marker size](figures/ms.png) |"
   ]
  },
  {
   "cell_type": "markdown",
   "metadata": {},
   "source": [
    "### <a id=\"line_styles\"></a>Line Styles"
   ]
  },
  {
   "cell_type": "markdown",
   "metadata": {},
   "source": [
    "These are different options for the linestyle keyword, e.g. the function call for  a plot using the dash-dot line would be:  \n",
    "\n",
    "    plot(X,Y,linestyle='-.')"
   ]
  },
  {
   "cell_type": "markdown",
   "metadata": {},
   "source": [
    "| Symbol | Description | Appearance |\n",
    "|:------:|:------------|:----------:|\n",
    "| '-' | solid line | ![solid line](figures/linestyle--.png) |\n",
    "| '--' | dashed line | ![dashed line](figures/linestyle---.png) |\n",
    "| '-.' | dash-dot line | ![dash-dot line](figures/linestyle--dot.png) |\n",
    "| ':' | dotted line | ![dotted line](figures/linestyle-:.png) |\n",
    "| 'None' | no line | |"
   ]
  },
  {
   "cell_type": "markdown",
   "metadata": {},
   "source": [
    "### <a id=\"marker_styles\"></a>Marker styles"
   ]
  },
  {
   "cell_type": "markdown",
   "metadata": {},
   "source": [
    "These are different options for the marker keyword, e.g. the function call for a scatter plot using the triangle up markers would be:  \n",
    "\n",
    "    plot(X, Y, marker='^')"
   ]
  },
  {
   "cell_type": "markdown",
   "metadata": {},
   "source": [
    "| Symbol | Description | Appearance |\n",
    "|:------:|:------------|:-----------|\n",
    "| 0 | tick left | ![](figures/marker-i0.png) | \n",
    "| 1 | tick right | ![](figures/marker-i1.png) |\n",
    "| 2 | tick up | ![](figures/marker-i2.png) |\n",
    "| 3 | tick down | ![](figures/marker-i3.png) |\n",
    "| 4 | caret left | ![](figures/marker-i4.png) |\n",
    "| 5 | caret right | ![](figures/marker-i5.png) |\n",
    "| 6 | caret up | ![](figures/marker-i6.png) |\n",
    "| 7 | caret down | ![](figures/marker-i7.png) |\n",
    "| 'o' | circle | ![](figures/marker-o.png) |\n",
    "| 'D' | diamond | ![](figures/marker-dd.png) |\n",
    "| 'h' | hexagon 1 | ![](figures/marker-h.png) |\n",
    "| 'H' | hexagon 2 | ![](figures/marker-hh.png) |\n",
    "| '_' | horizontal line | ![](figures/marker-_.png) |\n",
    "| '1' | tripod down | ![](figures/marker-1.png) |\n",
    "| '2' | tripod up | ![](figures/marker-2.png) |\n",
    "| '3' | tripod left | ![](figures/marker-3.png) |\n",
    "| '4' | tripod right | ![](figures/marker-4.png) |\n",
    "| '8' | octagon | ![](figures/marker-8.png) |\n",
    "| 'p' | pentagon | ![](figures/marker-p.png) |\n",
    "| '^' | triangle up | ![](figures/marker-^.png) |\n",
    "| 'v' | triangle down | ![](figures/marker-v.png) |\n",
    "| '&lt;' | triangle left | ![](figures/marker-&lt;.png) |\n",
    "| '&gt;' | triangle right | ![](figures/marker-&gt;.png) |\n",
    "| 'd' | thin diamond | ![](figures/marker-d.png) |\n",
    "| ',' | pixel | ![](figures/marker-,.png) |\n",
    "| '+' | plus | ![](figures/marker-+.png) |\n",
    "| '.' | point | ![](figures/marker-dot.png) |\n",
    "| 's' | square | ![](figures/marker-s.png) |\n",
    "| '\\*' | star | ![](figures/marker-star.png) |\n",
    "| '&#124;' | vertical line | ![](figures/marker-pipe.png) |\n",
    "| 'x' | cross | ![](figures/marker-x.png) |\n",
    "| r'\\$\\sqrt{2}\\$' | any LaTeX expression | ![](figures/marker-latex.png) |"
   ]
  },
  {
   "cell_type": "markdown",
   "metadata": {},
   "source": [
    "## Further resources <a id=\"resources\"></a>\n",
    "\n",
    "There are a lot of Python related learning resources available on the net (google is your friend!) Here are a few of the relevant links. \n",
    "\n",
    "If you take a look at the matplotlib galleries you will see there are more options than we have covered. The plotting code they use looks at bit different to the style we have used here but the gist is the same and you will be able to execute any example code you find on the web inside a notebook cell.\n",
    "\n",
    "Library documentation\n",
    "\n",
    "* [Matplotlib](http://matplotlib.org)\n",
    "    - [Matplotlib Gallery of Examples](http://matplotlib.org/gallery)\n",
    "    \n",
    "Tutorials we made use of\n",
    "\n",
    "* [Scipy lectures](http://scipy-lectures.github.io/intro/matplotlib/matplotlib.html)\n",
    "* [Euroscipy 2012 matplotlib tutorial](http://www.loria.fr/~rougier/teaching/matplotlib/)\n",
    "\n",
    "Also interesting\n",
    "\n",
    "* [IPython tutorial](https://ipython.readthedocs.io/en/stable/interactive/tutorial.html)\n",
    "\n",
    "#### LaTeX\n",
    "\n",
    "LaTeX is a full typeset system used to write many thesis and books. If you need to get in to it there is a good [online book](https://en.wikibooks.org/wiki/LaTeX). When using Jupyter notebooks you will be writing mostly small equations, and a [small subset](https://en.wikibooks.org/wiki/LaTeX/Mathematics#Greek_letters) comes in handy."
   ]
  }
 ],
 "metadata": {
  "kernelspec": {
   "display_name": "Python 3",
   "language": "python",
   "name": "python3"
  },
  "language_info": {
   "codemirror_mode": {
    "name": "ipython",
    "version": 3
   },
   "file_extension": ".py",
   "mimetype": "text/x-python",
   "name": "python",
   "nbconvert_exporter": "python",
   "pygments_lexer": "ipython3",
   "version": "3.7.0"
  }
 },
 "nbformat": 4,
 "nbformat_minor": 1
}
