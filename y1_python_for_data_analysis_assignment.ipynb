{
 "cells": [
  {
   "cell_type": "markdown",
   "metadata": {},
   "source": [
    "# Python for Data Analysis - Assignment"
   ]
  },
  {
   "cell_type": "markdown",
   "metadata": {},
   "source": [
    "**Submit to Blackboard before Friday, 12th of January at 18:00**\n",
    "\n",
    "**4 marks are attainable, corresponding to 20% of the course grade**"
   ]
  },
  {
   "cell_type": "markdown",
   "metadata": {},
   "source": [
    "In this exercise you should do a linear fit to a set of data written on a text file.\n",
    "\n",
    "Accompanying this notebook is the file *data_gen.py* containing the function *get_data()* which will generate your personalized data based on your College ID (CID) number. To generate your data run the following lines where you should remove the leading zeros on the left of your CID number.\n",
    "\n",
    "    from data_gen import get_data\n",
    "    get_data(yourCID)"
   ]
  },
  {
   "cell_type": "markdown",
   "metadata": {},
   "source": [
    "The function *get_data()* will generate the file data_*yourCID*.dat with the data on which to perform the fit.\n",
    "\n",
    "You should define 4 distinct variables:\n",
    "\n",
    "* A variable called **data** where the first column is the x coordinate values and the second column the y coordinate values. *(1 mark)*\n",
    "* Two variables called **slope_array** and **intercept_array**. Each of these variables should be an array of 2 elements. The first value of each array should be the value of the slope and the intercept parameters obtained from the fit. The second element should be the uncertainty associated with each of the parameters. *(2 marks)*\n",
    "* The variable **residuals** should be a one dimensional array with the value of the residuals for each data point. *(1 mark)*\n",
    "\n",
    "Note: It is important that you define your variables with the names defined above, as your solution will be tested by checking the value of those variables."
   ]
  },
  {
   "cell_type": "markdown",
   "metadata": {},
   "source": [
    "## You can work out your solution below this line"
   ]
  },
  {
   "cell_type": "code",
   "execution_count": 1,
   "metadata": {},
   "outputs": [
    {
     "name": "stdout",
     "output_type": "stream",
     "text": [
      "Populating the interactive namespace from numpy and matplotlib\n"
     ]
    }
   ],
   "source": [
    "%pylab inline"
   ]
  },
  {
   "cell_type": "code",
   "execution_count": 2,
   "metadata": {},
   "outputs": [],
   "source": [
    "#generate personalised data\n",
    "from data_gen import get_data\n",
    "get_data(1531254)"
   ]
  },
  {
   "cell_type": "code",
   "execution_count": 3,
   "metadata": {},
   "outputs": [],
   "source": [
    "#import data\n",
    "data = loadtxt('data_1531254.dat')\n",
    "x = data[:, 0]\n",
    "y = data[:, 1]"
   ]
  },
  {
   "cell_type": "code",
   "execution_count": 4,
   "metadata": {},
   "outputs": [
    {
     "data": {
      "text/plain": [
       "array([3.19393105, 2.02889241])"
      ]
     },
     "execution_count": 4,
     "metadata": {},
     "output_type": "execute_result"
    }
   ],
   "source": [
    "#find slope and intercept\n",
    "polyfit(x, y, 1)"
   ]
  },
  {
   "cell_type": "markdown",
   "metadata": {},
   "source": [
    "Slope = 3.19393105\n",
    "\n",
    "Intercept = 2.02889241"
   ]
  },
  {
   "cell_type": "code",
   "execution_count": 5,
   "metadata": {},
   "outputs": [
    {
     "name": "stderr",
     "output_type": "stream",
     "text": [
      "c:\\Anaconda3\\lib\\site-packages\\ipykernel_launcher.py:5: RuntimeWarning: invalid value encountered in sqrt\n",
      "  \"\"\"\n"
     ]
    },
    {
     "data": {
      "text/plain": [
       "array([[0.28866355,        nan],\n",
       "       [       nan, 0.77277053]])"
      ]
     },
     "execution_count": 5,
     "metadata": {},
     "output_type": "execute_result"
    }
   ],
   "source": [
    "# find uncertainty associated with slope and intercept\n",
    "fit = polyfit(x, y, 1, cov=True)\n",
    "params = fit[0]\n",
    "params_cov = fit[1]\n",
    "params_cov**0.5"
   ]
  },
  {
   "cell_type": "markdown",
   "metadata": {},
   "source": [
    "Slope uncertainty = 0.28866355\n",
    "\n",
    "Intercept uncertainty = 0.77277053"
   ]
  },
  {
   "cell_type": "code",
   "execution_count": 6,
   "metadata": {},
   "outputs": [],
   "source": [
    "#define slope and intercept arrays\n",
    "slope_array = array([3.19393105, 0.28866355])\n",
    "intercept_array = array([2.02889241, 0.77277053])"
   ]
  },
  {
   "cell_type": "code",
   "execution_count": 7,
   "metadata": {},
   "outputs": [
    {
     "data": {
      "text/plain": [
       "array([-0.33155869, -0.65684192,  0.01913837,  0.63340574,  0.65085221,\n",
       "       -0.59649365,  0.56425076,  1.19660308, -0.6498846 , -0.82947136])"
      ]
     },
     "execution_count": 7,
     "metadata": {},
     "output_type": "execute_result"
    }
   ],
   "source": [
    "#find residuals\n",
    "fitted = slope_array[0] * x + intercept_array[0]\n",
    "residuals = y - fitted\n",
    "residuals"
   ]
  },
  {
   "cell_type": "code",
   "execution_count": 8,
   "metadata": {},
   "outputs": [
    {
     "data": {
      "image/png": "[encoded data removed]",
      "text/plain": [
       "<Figure size 432x288 with 1 Axes>"
      ]
     },
     "metadata": {
      "needs_background": "light"
     },
     "output_type": "display_data"
    }
   ],
   "source": [
    "#plot data\n",
    "plot(x, y, linestyle='', marker='^')\n",
    "plot(x, fitted, linestyle='--')\n",
    "show()"
   ]
  },
  {
   "cell_type": "code",
   "execution_count": 9,
   "metadata": {},
   "outputs": [
    {
     "data": {
      "image/png": "[encoded data removed]",
      "text/plain": [
       "<Figure size 432x288 with 1 Axes>"
      ]
     },
     "metadata": {
      "needs_background": "light"
     },
     "output_type": "display_data"
    }
   ],
   "source": [
    "#plot residuals\n",
    "plot(x, residuals, marker='^', linestyle='')\n",
    "plot(array([x[0],x[-1]]), array([0,0]),linestyle='--')\n",
    "show()"
   ]
  }
 ],
 "metadata": {
  "kernelspec": {
   "display_name": "Python 3",
   "language": "python",
   "name": "python3"
  },
  "language_info": {
   "codemirror_mode": {
    "name": "ipython",
    "version": 3
   },
   "file_extension": ".py",
   "mimetype": "text/x-python",
   "name": "python",
   "nbconvert_exporter": "python",
   "pygments_lexer": "ipython3",
   "version": "3.6.6"
  }
 },
 "nbformat": 4,
 "nbformat_minor": 1
}
